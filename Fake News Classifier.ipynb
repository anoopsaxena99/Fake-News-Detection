{
 "cells": [
  {
   "cell_type": "markdown",
   "metadata": {
    "colab_type": "text",
    "id": "XFOKafBfAvpX"
   },
   "source": [
    "# Fake News Recommendation System using Natural language processing.\n",
    "\n",
    "* The dataset is from https://github.com/GeorgeMcIntire/fake_real_news_dataset\n",
    "*https://github.com/joolsa/fake_real_news_dataset/blob/master/fake_or_real_news.csv.zip\n",
    "* Natural language processing (NLP) is the relationship between computers and human language. More specifically, natural language processing is the computer understanding, analysis, manipulation, and/or generation of natural language."
   ]
  },
  {
   "cell_type": "code",
   "execution_count": null,
   "metadata": {
    "colab": {
     "autoexec": {
      "startup": false,
      "wait_interval": 0
     }
    },
    "colab_type": "code",
    "id": "fNlcH9xeAsUD"
   },
   "outputs": [],
   "source": [
    "# Fuse wrapper the google drive\n",
    "!pip install pydrive\n",
    "!pip install gensim\n",
    "from pydrive.auth import GoogleAuth\n",
    "from pydrive.drive import GoogleDrive\n",
    "from google.colab import auth\n",
    "from oauth2client.client import GoogleCredentials\n",
    " \n",
    "# 1. Authenticate and create the PyDrive client.\n",
    "auth.authenticate_user()\n",
    "gauth = GoogleAuth()\n",
    "gauth.credentials = GoogleCredentials.get_application_default()\n",
    "drive = GoogleDrive(gauth)"
   ]
  },
  {
   "cell_type": "code",
   "execution_count": null,
   "metadata": {
    "colab": {
     "autoexec": {
      "startup": false,
      "wait_interval": 0
     }
    },
    "colab_type": "code",
    "id": "kfSE_grQcyR0"
   },
   "outputs": [],
   "source": [
    "download = drive.CreateFile({'id':'1m50raYcuWAVBtsRzHS7rYcZYVW9-oYEx'})\n",
    "download.GetContentFile('fake_or_news.csv')  "
   ]
  },
  {
   "cell_type": "code",
   "execution_count": null,
   "metadata": {
    "colab": {
     "autoexec": {
      "startup": false,
      "wait_interval": 0
     }
    },
    "colab_type": "code",
    "id": "6sC_SU5feQsD"
   },
   "outputs": [],
   "source": [
    "# loading libraries and data\n",
    "\n",
    "%matplotlib inline\n",
    "\n",
    "import sqlite3                          # for sql database\n",
    "import pandas as pd\n",
    "import numpy as np\n",
    "import nltk                             # nltk:- Natural Language Processing Toolkit\n",
    "import string\n",
    "import re\n",
    "import io\n",
    "import matplotlib.pyplot as plt\n",
    "import seaborn as sns\n",
    "from sklearn.feature_extraction.text import TfidfTransformer\n",
    "from sklearn.feature_extraction.text import TfidfVectorizer\n",
    "from sklearn.feature_extraction.text import CountVectorizer\n",
    "from sklearn.metrics import confusion_matrix\n",
    "from sklearn import metrics\n",
    "from sklearn.metrics import roc_curve, auc\n",
    "from nltk.stem.porter import PorterStemmer"
   ]
  },
  {
   "cell_type": "code",
   "execution_count": null,
   "metadata": {
    "colab": {
     "autoexec": {
      "startup": false,
      "wait_interval": 0
     }
    },
    "colab_type": "code",
    "id": "Y_oS-741ea7o"
   },
   "outputs": [],
   "source": [
    "df = pd.read_csv('fake_or_news.csv')"
   ]
  },
  {
   "cell_type": "code",
   "execution_count": 8,
   "metadata": {
    "colab": {
     "autoexec": {
      "startup": false,
      "wait_interval": 0
     },
     "base_uri": "https://localhost:8080/",
     "height": 197
    },
    "colab_type": "code",
    "executionInfo": {
     "elapsed": 879,
     "status": "ok",
     "timestamp": 1530933590602,
     "user": {
      "displayName": "Vijay Bhati",
      "photoUrl": "https://lh3.googleusercontent.com/a/default-user=s128",
      "userId": "106065926741616959388"
     },
     "user_tz": -330
    },
    "id": "7zWaI1gueiMk",
    "outputId": "0c99a3fb-c4b7-4ca9-b50c-000328a82bba"
   },
   "outputs": [
    {
     "data": {
      "text/html": [
       "<div>\n",
       "<style scoped>\n",
       "    .dataframe tbody tr th:only-of-type {\n",
       "        vertical-align: middle;\n",
       "    }\n",
       "\n",
       "    .dataframe tbody tr th {\n",
       "        vertical-align: top;\n",
       "    }\n",
       "\n",
       "    .dataframe thead th {\n",
       "        text-align: right;\n",
       "    }\n",
       "</style>\n",
       "<table border=\"1\" class=\"dataframe\">\n",
       "  <thead>\n",
       "    <tr style=\"text-align: right;\">\n",
       "      <th></th>\n",
       "      <th>Unnamed: 0</th>\n",
       "      <th>title</th>\n",
       "      <th>text</th>\n",
       "      <th>label</th>\n",
       "    </tr>\n",
       "  </thead>\n",
       "  <tbody>\n",
       "    <tr>\n",
       "      <th>0</th>\n",
       "      <td>8476</td>\n",
       "      <td>You Can Smell Hillary’s Fear</td>\n",
       "      <td>Daniel Greenfield, a Shillman Journalism Fello...</td>\n",
       "      <td>FAKE</td>\n",
       "    </tr>\n",
       "    <tr>\n",
       "      <th>1</th>\n",
       "      <td>10294</td>\n",
       "      <td>Watch The Exact Moment Paul Ryan Committed Pol...</td>\n",
       "      <td>Google Pinterest Digg Linkedin Reddit Stumbleu...</td>\n",
       "      <td>FAKE</td>\n",
       "    </tr>\n",
       "    <tr>\n",
       "      <th>2</th>\n",
       "      <td>3608</td>\n",
       "      <td>Kerry to go to Paris in gesture of sympathy</td>\n",
       "      <td>U.S. Secretary of State John F. Kerry said Mon...</td>\n",
       "      <td>REAL</td>\n",
       "    </tr>\n",
       "    <tr>\n",
       "      <th>3</th>\n",
       "      <td>10142</td>\n",
       "      <td>Bernie supporters on Twitter erupt in anger ag...</td>\n",
       "      <td>— Kaydee King (@KaydeeKing) November 9, 2016 T...</td>\n",
       "      <td>FAKE</td>\n",
       "    </tr>\n",
       "    <tr>\n",
       "      <th>4</th>\n",
       "      <td>875</td>\n",
       "      <td>The Battle of New York: Why This Primary Matters</td>\n",
       "      <td>It's primary day in New York and front-runners...</td>\n",
       "      <td>REAL</td>\n",
       "    </tr>\n",
       "  </tbody>\n",
       "</table>\n",
       "</div>"
      ],
      "text/plain": [
       "   Unnamed: 0                                              title  \\\n",
       "0        8476                       You Can Smell Hillary’s Fear   \n",
       "1       10294  Watch The Exact Moment Paul Ryan Committed Pol...   \n",
       "2        3608        Kerry to go to Paris in gesture of sympathy   \n",
       "3       10142  Bernie supporters on Twitter erupt in anger ag...   \n",
       "4         875   The Battle of New York: Why This Primary Matters   \n",
       "\n",
       "                                                text label  \n",
       "0  Daniel Greenfield, a Shillman Journalism Fello...  FAKE  \n",
       "1  Google Pinterest Digg Linkedin Reddit Stumbleu...  FAKE  \n",
       "2  U.S. Secretary of State John F. Kerry said Mon...  REAL  \n",
       "3  — Kaydee King (@KaydeeKing) November 9, 2016 T...  FAKE  \n",
       "4  It's primary day in New York and front-runners...  REAL  "
      ]
     },
     "execution_count": 8,
     "metadata": {
      "tags": []
     },
     "output_type": "execute_result"
    }
   ],
   "source": [
    "df.head()"
   ]
  },
  {
   "cell_type": "code",
   "execution_count": 9,
   "metadata": {
    "colab": {
     "autoexec": {
      "startup": false,
      "wait_interval": 0
     },
     "base_uri": "https://localhost:8080/",
     "height": 287
    },
    "colab_type": "code",
    "executionInfo": {
     "elapsed": 969,
     "status": "ok",
     "timestamp": 1530933592008,
     "user": {
      "displayName": "Vijay Bhati",
      "photoUrl": "https://lh3.googleusercontent.com/a/default-user=s128",
      "userId": "106065926741616959388"
     },
     "user_tz": -330
    },
    "id": "Zs8nL_ayejKm",
    "outputId": "3e491d83-35d4-4887-9187-cb02637d673b"
   },
   "outputs": [
    {
     "data": {
      "text/html": [
       "<div>\n",
       "<style scoped>\n",
       "    .dataframe tbody tr th:only-of-type {\n",
       "        vertical-align: middle;\n",
       "    }\n",
       "\n",
       "    .dataframe tbody tr th {\n",
       "        vertical-align: top;\n",
       "    }\n",
       "\n",
       "    .dataframe thead th {\n",
       "        text-align: right;\n",
       "    }\n",
       "</style>\n",
       "<table border=\"1\" class=\"dataframe\">\n",
       "  <thead>\n",
       "    <tr style=\"text-align: right;\">\n",
       "      <th></th>\n",
       "      <th>Unnamed: 0</th>\n",
       "    </tr>\n",
       "  </thead>\n",
       "  <tbody>\n",
       "    <tr>\n",
       "      <th>count</th>\n",
       "      <td>6335.000000</td>\n",
       "    </tr>\n",
       "    <tr>\n",
       "      <th>mean</th>\n",
       "      <td>5280.415627</td>\n",
       "    </tr>\n",
       "    <tr>\n",
       "      <th>std</th>\n",
       "      <td>3038.503953</td>\n",
       "    </tr>\n",
       "    <tr>\n",
       "      <th>min</th>\n",
       "      <td>2.000000</td>\n",
       "    </tr>\n",
       "    <tr>\n",
       "      <th>25%</th>\n",
       "      <td>2674.500000</td>\n",
       "    </tr>\n",
       "    <tr>\n",
       "      <th>50%</th>\n",
       "      <td>5271.000000</td>\n",
       "    </tr>\n",
       "    <tr>\n",
       "      <th>75%</th>\n",
       "      <td>7901.000000</td>\n",
       "    </tr>\n",
       "    <tr>\n",
       "      <th>max</th>\n",
       "      <td>10557.000000</td>\n",
       "    </tr>\n",
       "  </tbody>\n",
       "</table>\n",
       "</div>"
      ],
      "text/plain": [
       "         Unnamed: 0\n",
       "count   6335.000000\n",
       "mean    5280.415627\n",
       "std     3038.503953\n",
       "min        2.000000\n",
       "25%     2674.500000\n",
       "50%     5271.000000\n",
       "75%     7901.000000\n",
       "max    10557.000000"
      ]
     },
     "execution_count": 9,
     "metadata": {
      "tags": []
     },
     "output_type": "execute_result"
    }
   ],
   "source": [
    "df.describe()"
   ]
  },
  {
   "cell_type": "code",
   "execution_count": 10,
   "metadata": {
    "colab": {
     "autoexec": {
      "startup": false,
      "wait_interval": 0
     },
     "base_uri": "https://localhost:8080/",
     "height": 34
    },
    "colab_type": "code",
    "executionInfo": {
     "elapsed": 1254,
     "status": "ok",
     "timestamp": 1530933593648,
     "user": {
      "displayName": "Vijay Bhati",
      "photoUrl": "https://lh3.googleusercontent.com/a/default-user=s128",
      "userId": "106065926741616959388"
     },
     "user_tz": -330
    },
    "id": "mUAub03Ken5c",
    "outputId": "8098fcf5-ccce-44a8-86ef-bf5ac1403089"
   },
   "outputs": [
    {
     "data": {
      "text/plain": [
       "(6335, 4)"
      ]
     },
     "execution_count": 10,
     "metadata": {
      "tags": []
     },
     "output_type": "execute_result"
    }
   ],
   "source": [
    "df.shape"
   ]
  },
  {
   "cell_type": "code",
   "execution_count": 11,
   "metadata": {
    "colab": {
     "autoexec": {
      "startup": false,
      "wait_interval": 0
     },
     "base_uri": "https://localhost:8080/",
     "height": 34
    },
    "colab_type": "code",
    "executionInfo": {
     "elapsed": 1052,
     "status": "ok",
     "timestamp": 1530933595091,
     "user": {
      "displayName": "Vijay Bhati",
      "photoUrl": "https://lh3.googleusercontent.com/a/default-user=s128",
      "userId": "106065926741616959388"
     },
     "user_tz": -330
    },
    "id": "zWWNGRbce06o",
    "outputId": "900ae2a5-dcf3-4cba-c5a8-254b6d4a2e9c"
   },
   "outputs": [
    {
     "data": {
      "text/plain": [
       "6335"
      ]
     },
     "execution_count": 11,
     "metadata": {
      "tags": []
     },
     "output_type": "execute_result"
    }
   ],
   "source": [
    "df['label'].size"
   ]
  },
  {
   "cell_type": "code",
   "execution_count": null,
   "metadata": {
    "colab": {
     "autoexec": {
      "startup": false,
      "wait_interval": 0
     }
    },
    "colab_type": "code",
    "id": "ZJmfq0yee-0H"
   },
   "outputs": [],
   "source": [
    "df['label_num'] = df['label'].map(lambda x: 1 if x == \"REAL\" else 0)"
   ]
  },
  {
   "cell_type": "code",
   "execution_count": 13,
   "metadata": {
    "colab": {
     "autoexec": {
      "startup": false,
      "wait_interval": 0
     },
     "base_uri": "https://localhost:8080/",
     "height": 197
    },
    "colab_type": "code",
    "executionInfo": {
     "elapsed": 1386,
     "status": "ok",
     "timestamp": 1530933598642,
     "user": {
      "displayName": "Vijay Bhati",
      "photoUrl": "https://lh3.googleusercontent.com/a/default-user=s128",
      "userId": "106065926741616959388"
     },
     "user_tz": -330
    },
    "id": "gi49axZAgE5M",
    "outputId": "81ff6ddc-9b94-4a03-8b03-e2ec6dd112d9"
   },
   "outputs": [
    {
     "data": {
      "text/html": [
       "<div>\n",
       "<style scoped>\n",
       "    .dataframe tbody tr th:only-of-type {\n",
       "        vertical-align: middle;\n",
       "    }\n",
       "\n",
       "    .dataframe tbody tr th {\n",
       "        vertical-align: top;\n",
       "    }\n",
       "\n",
       "    .dataframe thead th {\n",
       "        text-align: right;\n",
       "    }\n",
       "</style>\n",
       "<table border=\"1\" class=\"dataframe\">\n",
       "  <thead>\n",
       "    <tr style=\"text-align: right;\">\n",
       "      <th></th>\n",
       "      <th>Unnamed: 0</th>\n",
       "      <th>title</th>\n",
       "      <th>text</th>\n",
       "      <th>label</th>\n",
       "      <th>label_num</th>\n",
       "    </tr>\n",
       "  </thead>\n",
       "  <tbody>\n",
       "    <tr>\n",
       "      <th>0</th>\n",
       "      <td>8476</td>\n",
       "      <td>You Can Smell Hillary’s Fear</td>\n",
       "      <td>Daniel Greenfield, a Shillman Journalism Fello...</td>\n",
       "      <td>FAKE</td>\n",
       "      <td>0</td>\n",
       "    </tr>\n",
       "    <tr>\n",
       "      <th>1</th>\n",
       "      <td>10294</td>\n",
       "      <td>Watch The Exact Moment Paul Ryan Committed Pol...</td>\n",
       "      <td>Google Pinterest Digg Linkedin Reddit Stumbleu...</td>\n",
       "      <td>FAKE</td>\n",
       "      <td>0</td>\n",
       "    </tr>\n",
       "    <tr>\n",
       "      <th>2</th>\n",
       "      <td>3608</td>\n",
       "      <td>Kerry to go to Paris in gesture of sympathy</td>\n",
       "      <td>U.S. Secretary of State John F. Kerry said Mon...</td>\n",
       "      <td>REAL</td>\n",
       "      <td>1</td>\n",
       "    </tr>\n",
       "    <tr>\n",
       "      <th>3</th>\n",
       "      <td>10142</td>\n",
       "      <td>Bernie supporters on Twitter erupt in anger ag...</td>\n",
       "      <td>— Kaydee King (@KaydeeKing) November 9, 2016 T...</td>\n",
       "      <td>FAKE</td>\n",
       "      <td>0</td>\n",
       "    </tr>\n",
       "    <tr>\n",
       "      <th>4</th>\n",
       "      <td>875</td>\n",
       "      <td>The Battle of New York: Why This Primary Matters</td>\n",
       "      <td>It's primary day in New York and front-runners...</td>\n",
       "      <td>REAL</td>\n",
       "      <td>1</td>\n",
       "    </tr>\n",
       "  </tbody>\n",
       "</table>\n",
       "</div>"
      ],
      "text/plain": [
       "   Unnamed: 0                                              title  \\\n",
       "0        8476                       You Can Smell Hillary’s Fear   \n",
       "1       10294  Watch The Exact Moment Paul Ryan Committed Pol...   \n",
       "2        3608        Kerry to go to Paris in gesture of sympathy   \n",
       "3       10142  Bernie supporters on Twitter erupt in anger ag...   \n",
       "4         875   The Battle of New York: Why This Primary Matters   \n",
       "\n",
       "                                                text label  label_num  \n",
       "0  Daniel Greenfield, a Shillman Journalism Fello...  FAKE          0  \n",
       "1  Google Pinterest Digg Linkedin Reddit Stumbleu...  FAKE          0  \n",
       "2  U.S. Secretary of State John F. Kerry said Mon...  REAL          1  \n",
       "3  — Kaydee King (@KaydeeKing) November 9, 2016 T...  FAKE          0  \n",
       "4  It's primary day in New York and front-runners...  REAL          1  "
      ]
     },
     "execution_count": 13,
     "metadata": {
      "tags": []
     },
     "output_type": "execute_result"
    }
   ],
   "source": [
    "df.head()"
   ]
  },
  {
   "cell_type": "code",
   "execution_count": 14,
   "metadata": {
    "colab": {
     "autoexec": {
      "startup": false,
      "wait_interval": 0
     },
     "base_uri": "https://localhost:8080/",
     "height": 278
    },
    "colab_type": "code",
    "executionInfo": {
     "elapsed": 1614,
     "status": "ok",
     "timestamp": 1530933601359,
     "user": {
      "displayName": "Vijay Bhati",
      "photoUrl": "https://lh3.googleusercontent.com/a/default-user=s128",
      "userId": "106065926741616959388"
     },
     "user_tz": -330
    },
    "id": "jSOeZqMYge03",
    "outputId": "b6b8b730-a174-4294-f94b-d41941e7651b"
   },
   "outputs": [
    {
     "data": {
      "image/png": "[encoded data removed]",
      "text/plain": [
       "<matplotlib.figure.Figure at 0x7fc412b0f748>"
      ]
     },
     "metadata": {
      "tags": []
     },
     "output_type": "display_data"
    }
   ],
   "source": [
    "sns.distplot(df['label_num'],bins=10)\n",
    "plt.show()"
   ]
  },
  {
   "cell_type": "markdown",
   "metadata": {
    "colab_type": "text",
    "id": "58_-A8_fF3VA"
   },
   "source": [
    "# Text Preprocessing: Stemming, stop-word removal and Lemmatization.\n",
    "Now that we have to finish deduplication our data requires some preprocessing before we go on further with analysis and making the prediction model.\n",
    "\n",
    "Hence in the Preprocessing phase we do the following in the order below:-\n",
    "\n",
    "1. Begin by removing the html tags\n",
    "2. Remove any punctuations or limited set of special characters like , or . or # etc.\n",
    "3. Check if the word is made up of english letters and is not alpha-numeric\n",
    "4. Check to see if the length of the word is greater than 2 (as it was researched that there is no adjective in 2-letters)\n",
    "5. Convert the word to lowercase\n",
    "6. Remove Stopwords\n",
    "7. Finally Snowball Stemming the word (it was obsereved to be better than Porter Stemming)<br>\n",
    "\n",
    "After which we collect the words used to describe fake and real news"
   ]
  },
  {
   "cell_type": "markdown",
   "metadata": {
    "colab_type": "text",
    "id": "n3BlaVi4h2yV"
   },
   "source": [
    "# 1) Data Cleaning\n",
    "\n",
    "## (i) Data Deduplication"
   ]
  },
  {
   "cell_type": "code",
   "execution_count": 15,
   "metadata": {
    "colab": {
     "autoexec": {
      "startup": false,
      "wait_interval": 0
     },
     "base_uri": "https://localhost:8080/",
     "height": 70
    },
    "colab_type": "code",
    "executionInfo": {
     "elapsed": 2452,
     "status": "ok",
     "timestamp": 1530933604103,
     "user": {
      "displayName": "Vijay Bhati",
      "photoUrl": "https://lh3.googleusercontent.com/a/default-user=s128",
      "userId": "106065926741616959388"
     },
     "user_tz": -330
    },
    "id": "EE0Dqposg5w8",
    "outputId": "ffec02e4-5d87-45b5-c999-f6d6eee5ebff"
   },
   "outputs": [
    {
     "data": {
      "text/plain": [
       "False    6256\n",
       "True       79\n",
       "dtype: int64"
      ]
     },
     "execution_count": 15,
     "metadata": {
      "tags": []
     },
     "output_type": "execute_result"
    }
   ],
   "source": [
    "df.duplicated(subset={\"title\"}).value_counts()"
   ]
  },
  {
   "cell_type": "code",
   "execution_count": null,
   "metadata": {
    "colab": {
     "autoexec": {
      "startup": false,
      "wait_interval": 0
     }
    },
    "colab_type": "code",
    "id": "0meHI4cJhO-O"
   },
   "outputs": [],
   "source": [
    "# Deleting the duplicates\n",
    "df1 =  df.drop_duplicates(subset={\"title\"},keep=\"first\")"
   ]
  },
  {
   "cell_type": "code",
   "execution_count": 17,
   "metadata": {
    "colab": {
     "autoexec": {
      "startup": false,
      "wait_interval": 0
     },
     "base_uri": "https://localhost:8080/",
     "height": 52
    },
    "colab_type": "code",
    "executionInfo": {
     "elapsed": 3269,
     "status": "ok",
     "timestamp": 1530933609811,
     "user": {
      "displayName": "Vijay Bhati",
      "photoUrl": "https://lh3.googleusercontent.com/a/default-user=s128",
      "userId": "106065926741616959388"
     },
     "user_tz": -330
    },
    "id": "Df0ymh7MhcqI",
    "outputId": "205843cf-1a6a-4fbb-8856-352eae51022a"
   },
   "outputs": [
    {
     "data": {
      "text/plain": [
       "False    6256\n",
       "dtype: int64"
      ]
     },
     "execution_count": 17,
     "metadata": {
      "tags": []
     },
     "output_type": "execute_result"
    }
   ],
   "source": [
    "df1.duplicated(subset={\"title\"}).value_counts()"
   ]
  },
  {
   "cell_type": "markdown",
   "metadata": {
    "colab_type": "text",
    "id": "_kbgfbxgkYP3"
   },
   "source": [
    "# 2) Text Preprocessing\n",
    "\n",
    "## (i) HTML Tag Removal"
   ]
  },
  {
   "cell_type": "code",
   "execution_count": null,
   "metadata": {
    "colab": {
     "autoexec": {
      "startup": false,
      "wait_interval": 0
     }
    },
    "colab_type": "code",
    "id": "g2zVfRE-hevy"
   },
   "outputs": [],
   "source": [
    "import re\n",
    "# cleaning html symbols from the sentence\n",
    "def cleanhtml(sentence):\n",
    "    cleanr = re.compile('<.*?>')\n",
    "    cleantext = re.sub(cleanr, ' ', sentence)\n",
    "    return cleantext"
   ]
  },
  {
   "cell_type": "markdown",
   "metadata": {
    "colab_type": "text",
    "id": "tt02UKoJkqF-"
   },
   "source": [
    "## (ii) Punctuations Removal"
   ]
  },
  {
   "cell_type": "code",
   "execution_count": null,
   "metadata": {
    "colab": {
     "autoexec": {
      "startup": false,
      "wait_interval": 0
     }
    },
    "colab_type": "code",
    "id": "aA4ds_1JkkTM"
   },
   "outputs": [],
   "source": [
    "# cleaning punctuations from the sentence\n",
    "def cleanpunc(sentence):\n",
    "    cleaned = re.sub(r'[?|!|\\'|\"|#]',r'',sentence)\n",
    "    cleaned = re.sub(r'[.|,|)|(|\\|/]',r' ',cleaned)\n",
    "    return  cleaned"
   ]
  },
  {
   "cell_type": "markdown",
   "metadata": {
    "colab_type": "text",
    "id": "DUMGv9uQk1vC"
   },
   "source": [
    "## (iiI) Stopwords\n",
    "\n",
    "* A stop word is a commonly used word (such as “the”, “a”, “an”, “in”) that a search engine has been programmed to ignore, both when indexing entries for searching and when retrieving them as the result of a search query.\n",
    "\n",
    "![alt text](https://www.geeksforgeeks.org/wp-content/uploads/Stop-word-removal-using-NLTK.png)"
   ]
  },
  {
   "cell_type": "code",
   "execution_count": 20,
   "metadata": {
    "colab": {
     "autoexec": {
      "startup": false,
      "wait_interval": 0
     },
     "base_uri": "https://localhost:8080/",
     "height": 90
    },
    "colab_type": "code",
    "executionInfo": {
     "elapsed": 2461,
     "status": "ok",
     "timestamp": 1530933616542,
     "user": {
      "displayName": "Vijay Bhati",
      "photoUrl": "https://lh3.googleusercontent.com/a/default-user=s128",
      "userId": "106065926741616959388"
     },
     "user_tz": -330
    },
    "id": "FA7RXD39kv_i",
    "outputId": "0d27ae4f-18cb-43cd-ae0e-f2a4936eee14"
   },
   "outputs": [
    {
     "name": "stdout",
     "output_type": "stream",
     "text": [
      "[nltk_data] Downloading package stopwords to /content/nltk_data...\n",
      "[nltk_data]   Package stopwords is already up-to-date!\n",
      "['i', 'me', 'my', 'myself', 'we', 'our', 'ours', 'ourselves', 'you', \"you're\", \"you've\", \"you'll\", \"you'd\", 'your', 'yours', 'yourself', 'yourselves', 'he', 'him', 'his', 'himself', 'she', \"she's\", 'her', 'hers', 'herself', 'it', \"it's\", 'its', 'itself', 'they', 'them', 'their', 'theirs', 'themselves', 'what', 'which', 'who', 'whom', 'this', 'that', \"that'll\", 'these', 'those', 'am', 'is', 'are', 'was', 'were', 'be', 'been', 'being', 'have', 'has', 'had', 'having', 'do', 'does', 'did', 'doing', 'a', 'an', 'the', 'and', 'but', 'if', 'or', 'because', 'as', 'until', 'while', 'of', 'at', 'by', 'for', 'with', 'about', 'between', 'into', 'through', 'during', 'before', 'after', 'above', 'below', 'to', 'from', 'up', 'down', 'in', 'out', 'on', 'off', 'over', 'under', 'again', 'further', 'then', 'once', 'here', 'there', 'when', 'where', 'why', 'how', 'all', 'any', 'both', 'each', 'few', 'more', 'most', 'other', 'some', 'such', 'no', 'nor', 'only', 'own', 'same', 'so', 'than', 'too', 'very', 's', 't', 'can', 'will', 'just', 'should', \"should've\", 'now', 'd', 'll', 'm', 'o', 're', 've', 'y', 'ma', 'shan', \"shan't\"]\n"
     ]
    }
   ],
   "source": [
    "import nltk\n",
    "nltk.download('stopwords')\n",
    "from nltk.corpus import stopwords\n",
    "from nltk.stem import PorterStemmer\n",
    "from nltk.stem.wordnet import WordNetLemmatizer\n",
    "\n",
    "stop = stopwords.words('english') #All the stopwords in English language\n",
    "#excluding some useful words from stop words list as we doing sentiment analysis\n",
    "excluding = ['against','not','don', \"don't\",'ain', 'aren', \"aren't\", 'couldn', \"couldn't\", 'didn', \"didn't\",\n",
    "             'doesn', \"doesn't\", 'hadn', \"hadn't\", 'hasn', \"hasn't\", 'haven', \"haven't\", 'isn', \"isn't\", \n",
    "             'mightn', \"mightn't\", 'mustn', \"mustn't\", 'needn', \"needn't\",'shouldn', \"shouldn't\", 'wasn',\n",
    "             \"wasn't\", 'weren', \"weren't\", 'won', \"won't\", 'wouldn', \"wouldn't\"]\n",
    "stop = [words for words in stop if words not in excluding]\n",
    "print(stop)"
   ]
  },
  {
   "cell_type": "markdown",
   "metadata": {
    "colab_type": "text",
    "id": "F2g-u43wk960"
   },
   "source": [
    "## (iv) Stemming\n",
    "\n",
    "* A word stem is part of a word. It is sort of a normalization idea, but linguistic.\n",
    "For example, the stem of the word waiting is wait.\n",
    "\n",
    "![alt text](https://pythonspot-9329.kxcdn.com/wp-content/uploads/2016/08/word-stem.png.webp)"
   ]
  },
  {
   "cell_type": "code",
   "execution_count": null,
   "metadata": {
    "colab": {
     "autoexec": {
      "startup": false,
      "wait_interval": 0
     }
    },
    "colab_type": "code",
    "id": "3WNaz-A6k6K5"
   },
   "outputs": [],
   "source": [
    "from nltk.stem import SnowballStemmer\n",
    "snow = SnowballStemmer('english') #initialising the snowball stemmer"
   ]
  },
  {
   "cell_type": "code",
   "execution_count": 22,
   "metadata": {
    "colab": {
     "autoexec": {
      "startup": false,
      "wait_interval": 0
     },
     "base_uri": "https://localhost:8080/",
     "height": 34
    },
    "colab_type": "code",
    "executionInfo": {
     "elapsed": 4172,
     "status": "ok",
     "timestamp": 1530933625742,
     "user": {
      "displayName": "Vijay Bhati",
      "photoUrl": "https://lh3.googleusercontent.com/a/default-user=s128",
      "userId": "106065926741616959388"
     },
     "user_tz": -330
    },
    "id": "Gp2eqYh4lK9P",
    "outputId": "6ed4e42a-553b-4ab8-ff35-fdadcf48e5cb"
   },
   "outputs": [
    {
     "name": "stdout",
     "output_type": "stream",
     "text": [
      "secretari\n"
     ]
    }
   ],
   "source": [
    "print(snow.stem('Secretary')) #same meaning word with different spellings"
   ]
  },
  {
   "cell_type": "markdown",
   "metadata": {
    "colab_type": "text",
    "id": "Dim0yL5jl45G"
   },
   "source": [
    "# PreProcessing on all the news"
   ]
  },
  {
   "cell_type": "code",
   "execution_count": null,
   "metadata": {
    "colab": {
     "autoexec": {
      "startup": false,
      "wait_interval": 0
     }
    },
    "colab_type": "code",
    "id": "Cw8On-UVlRcO"
   },
   "outputs": [],
   "source": [
    "i = 0\n",
    "string1 = ' '\n",
    "final_string = []\n",
    "fake_words = []                \n",
    "real_words = []\n",
    "s = ''\n",
    "\n",
    "for sent in df1['text'].values:\n",
    "    filtered_sentence = []\n",
    "    sent = cleanhtml(sent)\n",
    "    sent = cleanpunc(sent)\n",
    "    for w in sent.split():\n",
    "        if((w.isalpha()) and (len(w)>2)):  \n",
    "            if(w.lower() not in stop):    # If it is a stopword\n",
    "                s = (snow.stem(w.lower())).encode('utf8')\n",
    "                filtered_sentence.append(s)\n",
    "                if (df1['label'].values)[i] == 'REAL':\n",
    "                    real_words.append(s)\n",
    "                if(df1['label'].values)[i] == 'FAKE':\n",
    "                    fake_words.append(s)\n",
    "            else:\n",
    "                continue\n",
    "        else:\n",
    "            continue \n",
    "    string1 = b\" \".join(filtered_sentence) \n",
    "    final_string.append(string1)\n",
    "    i += 1"
   ]
  },
  {
   "cell_type": "markdown",
   "metadata": {
    "colab_type": "text",
    "id": "3lHZ01cSnJLg"
   },
   "source": [
    "# Fake and Real words in text"
   ]
  },
  {
   "cell_type": "code",
   "execution_count": 24,
   "metadata": {
    "colab": {
     "autoexec": {
      "startup": false,
      "wait_interval": 0
     },
     "base_uri": "https://localhost:8080/",
     "height": 52
    },
    "colab_type": "code",
    "executionInfo": {
     "elapsed": 1083,
     "status": "ok",
     "timestamp": 1530933703128,
     "user": {
      "displayName": "Vijay Bhati",
      "photoUrl": "https://lh3.googleusercontent.com/a/default-user=s128",
      "userId": "106065926741616959388"
     },
     "user_tz": -330
    },
    "id": "PWIt-dilm1Ht",
    "outputId": "95228997-836c-4529-b770-394fb37675e7"
   },
   "outputs": [
    {
     "name": "stdout",
     "output_type": "stream",
     "text": [
      "Number of Real words:  1467750\n",
      "Number of Fake words:  1082029\n"
     ]
    }
   ],
   "source": [
    "from collections import Counter\n",
    "print(\"Number of Real words: \", len(real_words))\n",
    "print(\"Number of Fake words: \", len(fake_words))"
   ]
  },
  {
   "cell_type": "code",
   "execution_count": 25,
   "metadata": {
    "colab": {
     "autoexec": {
      "startup": false,
      "wait_interval": 0
     },
     "base_uri": "https://localhost:8080/",
     "height": 304
    },
    "colab_type": "code",
    "executionInfo": {
     "elapsed": 1632,
     "status": "ok",
     "timestamp": 1530933705564,
     "user": {
      "displayName": "Vijay Bhati",
      "photoUrl": "https://lh3.googleusercontent.com/a/default-user=s128",
      "userId": "106065926741616959388"
     },
     "user_tz": -330
    },
    "id": "40sl4JwinjQS",
    "outputId": "a72c6649-ca23-4236-853e-f8ad3315d5e2"
   },
   "outputs": [
    {
     "name": "stderr",
     "output_type": "stream",
     "text": [
      "/usr/local/lib/python3.6/dist-packages/ipykernel_launcher.py:1: SettingWithCopyWarning: \n",
      "A value is trying to be set on a copy of a slice from a DataFrame.\n",
      "Try using .loc[row_indexer,col_indexer] = value instead\n",
      "\n",
      "See the caveats in the documentation: http://pandas.pydata.org/pandas-docs/stable/indexing.html#indexing-view-versus-copy\n",
      "  \"\"\"Entry point for launching an IPython kernel.\n"
     ]
    },
    {
     "data": {
      "text/html": [
       "<div>\n",
       "<style scoped>\n",
       "    .dataframe tbody tr th:only-of-type {\n",
       "        vertical-align: middle;\n",
       "    }\n",
       "\n",
       "    .dataframe tbody tr th {\n",
       "        vertical-align: top;\n",
       "    }\n",
       "\n",
       "    .dataframe thead th {\n",
       "        text-align: right;\n",
       "    }\n",
       "</style>\n",
       "<table border=\"1\" class=\"dataframe\">\n",
       "  <thead>\n",
       "    <tr style=\"text-align: right;\">\n",
       "      <th></th>\n",
       "      <th>Unnamed: 0</th>\n",
       "      <th>title</th>\n",
       "      <th>text</th>\n",
       "      <th>label</th>\n",
       "      <th>label_num</th>\n",
       "      <th>CleanedText</th>\n",
       "    </tr>\n",
       "  </thead>\n",
       "  <tbody>\n",
       "    <tr>\n",
       "      <th>0</th>\n",
       "      <td>8476</td>\n",
       "      <td>You Can Smell Hillary’s Fear</td>\n",
       "      <td>Daniel Greenfield, a Shillman Journalism Fello...</td>\n",
       "      <td>FAKE</td>\n",
       "      <td>0</td>\n",
       "      <td>b'daniel greenfield shillman journal fellow fr...</td>\n",
       "    </tr>\n",
       "    <tr>\n",
       "      <th>1</th>\n",
       "      <td>10294</td>\n",
       "      <td>Watch The Exact Moment Paul Ryan Committed Pol...</td>\n",
       "      <td>Google Pinterest Digg Linkedin Reddit Stumbleu...</td>\n",
       "      <td>FAKE</td>\n",
       "      <td>0</td>\n",
       "      <td>b'googl pinterest digg linkedin reddit stumble...</td>\n",
       "    </tr>\n",
       "    <tr>\n",
       "      <th>2</th>\n",
       "      <td>3608</td>\n",
       "      <td>Kerry to go to Paris in gesture of sympathy</td>\n",
       "      <td>U.S. Secretary of State John F. Kerry said Mon...</td>\n",
       "      <td>REAL</td>\n",
       "      <td>1</td>\n",
       "      <td>b'secretari state john kerri said monday stop ...</td>\n",
       "    </tr>\n",
       "    <tr>\n",
       "      <th>3</th>\n",
       "      <td>10142</td>\n",
       "      <td>Bernie supporters on Twitter erupt in anger ag...</td>\n",
       "      <td>— Kaydee King (@KaydeeKing) November 9, 2016 T...</td>\n",
       "      <td>FAKE</td>\n",
       "      <td>0</td>\n",
       "      <td>b'kayde king novemb lesson tonight dem time de...</td>\n",
       "    </tr>\n",
       "    <tr>\n",
       "      <th>4</th>\n",
       "      <td>875</td>\n",
       "      <td>The Battle of New York: Why This Primary Matters</td>\n",
       "      <td>It's primary day in New York and front-runners...</td>\n",
       "      <td>REAL</td>\n",
       "      <td>1</td>\n",
       "      <td>b'primari day new york hillari clinton donald ...</td>\n",
       "    </tr>\n",
       "  </tbody>\n",
       "</table>\n",
       "</div>"
      ],
      "text/plain": [
       "   Unnamed: 0                                              title  \\\n",
       "0        8476                       You Can Smell Hillary’s Fear   \n",
       "1       10294  Watch The Exact Moment Paul Ryan Committed Pol...   \n",
       "2        3608        Kerry to go to Paris in gesture of sympathy   \n",
       "3       10142  Bernie supporters on Twitter erupt in anger ag...   \n",
       "4         875   The Battle of New York: Why This Primary Matters   \n",
       "\n",
       "                                                text label  label_num  \\\n",
       "0  Daniel Greenfield, a Shillman Journalism Fello...  FAKE          0   \n",
       "1  Google Pinterest Digg Linkedin Reddit Stumbleu...  FAKE          0   \n",
       "2  U.S. Secretary of State John F. Kerry said Mon...  REAL          1   \n",
       "3  — Kaydee King (@KaydeeKing) November 9, 2016 T...  FAKE          0   \n",
       "4  It's primary day in New York and front-runners...  REAL          1   \n",
       "\n",
       "                                         CleanedText  \n",
       "0  b'daniel greenfield shillman journal fellow fr...  \n",
       "1  b'googl pinterest digg linkedin reddit stumble...  \n",
       "2  b'secretari state john kerri said monday stop ...  \n",
       "3  b'kayde king novemb lesson tonight dem time de...  \n",
       "4  b'primari day new york hillari clinton donald ...  "
      ]
     },
     "execution_count": 25,
     "metadata": {
      "tags": []
     },
     "output_type": "execute_result"
    }
   ],
   "source": [
    "df1['CleanedText'] = final_string\n",
    "df1.head()"
   ]
  },
  {
   "cell_type": "code",
   "execution_count": null,
   "metadata": {
    "colab": {
     "autoexec": {
      "startup": false,
      "wait_interval": 0
     }
    },
    "colab_type": "code",
    "id": "_Xr21H43oDle"
   },
   "outputs": [],
   "source": [
    "# without stem\n",
    "i = 0\n",
    "string1 = ' '\n",
    "final_string_nostem = []\n",
    "s = ''\n",
    "\n",
    "for sent in df1['text'].values:\n",
    "    filtered_sentence=[]\n",
    "    sent = cleanhtml(sent)\n",
    "    sent = cleanpunc(sent)\n",
    "    for w in sent.split():\n",
    "        if((w.isalpha()) and (len(w)>2)):  \n",
    "            if(w.lower() not in stop):\n",
    "                s = w.lower().encode('utf8')\n",
    "                filtered_sentence.append(s)\n",
    "            else:\n",
    "                continue\n",
    "        else:\n",
    "            continue \n",
    "    string1 = b\" \".join(filtered_sentence)     \n",
    "    final_string_nostem.append(string1)\n",
    "    i += 1"
   ]
  },
  {
   "cell_type": "code",
   "execution_count": 27,
   "metadata": {
    "colab": {
     "autoexec": {
      "startup": false,
      "wait_interval": 0
     },
     "base_uri": "https://localhost:8080/",
     "height": 123
    },
    "colab_type": "code",
    "executionInfo": {
     "elapsed": 931,
     "status": "ok",
     "timestamp": 1530933719896,
     "user": {
      "displayName": "Vijay Bhati",
      "photoUrl": "https://lh3.googleusercontent.com/a/default-user=s128",
      "userId": "106065926741616959388"
     },
     "user_tz": -330
    },
    "id": "PSmxnaWXohj2",
    "outputId": "cbad434f-c56f-4ebd-ef74-1e81c5e40508"
   },
   "outputs": [
    {
     "name": "stderr",
     "output_type": "stream",
     "text": [
      "/usr/local/lib/python3.6/dist-packages/ipykernel_launcher.py:1: SettingWithCopyWarning: \n",
      "A value is trying to be set on a copy of a slice from a DataFrame.\n",
      "Try using .loc[row_indexer,col_indexer] = value instead\n",
      "\n",
      "See the caveats in the documentation: http://pandas.pydata.org/pandas-docs/stable/indexing.html#indexing-view-versus-copy\n",
      "  \"\"\"Entry point for launching an IPython kernel.\n"
     ]
    }
   ],
   "source": [
    "df1['CleanedText_NoStem'] = final_string_nostem"
   ]
  },
  {
   "cell_type": "code",
   "execution_count": 28,
   "metadata": {
    "colab": {
     "autoexec": {
      "startup": false,
      "wait_interval": 0
     },
     "base_uri": "https://localhost:8080/",
     "height": 204
    },
    "colab_type": "code",
    "executionInfo": {
     "elapsed": 1124,
     "status": "ok",
     "timestamp": 1530933722041,
     "user": {
      "displayName": "Vijay Bhati",
      "photoUrl": "https://lh3.googleusercontent.com/a/default-user=s128",
      "userId": "106065926741616959388"
     },
     "user_tz": -330
    },
    "id": "rJWFHLZrotwf",
    "outputId": "3d33ef0a-d549-4c66-e642-8d1a5867ccb1"
   },
   "outputs": [
    {
     "data": {
      "text/html": [
       "<div>\n",
       "<style scoped>\n",
       "    .dataframe tbody tr th:only-of-type {\n",
       "        vertical-align: middle;\n",
       "    }\n",
       "\n",
       "    .dataframe tbody tr th {\n",
       "        vertical-align: top;\n",
       "    }\n",
       "\n",
       "    .dataframe thead th {\n",
       "        text-align: right;\n",
       "    }\n",
       "</style>\n",
       "<table border=\"1\" class=\"dataframe\">\n",
       "  <thead>\n",
       "    <tr style=\"text-align: right;\">\n",
       "      <th></th>\n",
       "      <th>Unnamed: 0</th>\n",
       "      <th>title</th>\n",
       "      <th>text</th>\n",
       "      <th>label</th>\n",
       "      <th>label_num</th>\n",
       "      <th>CleanedText</th>\n",
       "      <th>CleanedText_NoStem</th>\n",
       "    </tr>\n",
       "  </thead>\n",
       "  <tbody>\n",
       "    <tr>\n",
       "      <th>0</th>\n",
       "      <td>8476</td>\n",
       "      <td>You Can Smell Hillary’s Fear</td>\n",
       "      <td>Daniel Greenfield, a Shillman Journalism Fello...</td>\n",
       "      <td>FAKE</td>\n",
       "      <td>0</td>\n",
       "      <td>b'daniel greenfield shillman journal fellow fr...</td>\n",
       "      <td>b'daniel greenfield shillman journalism fellow...</td>\n",
       "    </tr>\n",
       "    <tr>\n",
       "      <th>1</th>\n",
       "      <td>10294</td>\n",
       "      <td>Watch The Exact Moment Paul Ryan Committed Pol...</td>\n",
       "      <td>Google Pinterest Digg Linkedin Reddit Stumbleu...</td>\n",
       "      <td>FAKE</td>\n",
       "      <td>0</td>\n",
       "      <td>b'googl pinterest digg linkedin reddit stumble...</td>\n",
       "      <td>b'google pinterest digg linkedin reddit stumbl...</td>\n",
       "    </tr>\n",
       "    <tr>\n",
       "      <th>2</th>\n",
       "      <td>3608</td>\n",
       "      <td>Kerry to go to Paris in gesture of sympathy</td>\n",
       "      <td>U.S. Secretary of State John F. Kerry said Mon...</td>\n",
       "      <td>REAL</td>\n",
       "      <td>1</td>\n",
       "      <td>b'secretari state john kerri said monday stop ...</td>\n",
       "      <td>b'secretary state john kerry said monday stop ...</td>\n",
       "    </tr>\n",
       "  </tbody>\n",
       "</table>\n",
       "</div>"
      ],
      "text/plain": [
       "   Unnamed: 0                                              title  \\\n",
       "0        8476                       You Can Smell Hillary’s Fear   \n",
       "1       10294  Watch The Exact Moment Paul Ryan Committed Pol...   \n",
       "2        3608        Kerry to go to Paris in gesture of sympathy   \n",
       "\n",
       "                                                text label  label_num  \\\n",
       "0  Daniel Greenfield, a Shillman Journalism Fello...  FAKE          0   \n",
       "1  Google Pinterest Digg Linkedin Reddit Stumbleu...  FAKE          0   \n",
       "2  U.S. Secretary of State John F. Kerry said Mon...  REAL          1   \n",
       "\n",
       "                                         CleanedText  \\\n",
       "0  b'daniel greenfield shillman journal fellow fr...   \n",
       "1  b'googl pinterest digg linkedin reddit stumble...   \n",
       "2  b'secretari state john kerri said monday stop ...   \n",
       "\n",
       "                                  CleanedText_NoStem  \n",
       "0  b'daniel greenfield shillman journalism fellow...  \n",
       "1  b'google pinterest digg linkedin reddit stumbl...  \n",
       "2  b'secretary state john kerry said monday stop ...  "
      ]
     },
     "execution_count": 28,
     "metadata": {
      "tags": []
     },
     "output_type": "execute_result"
    }
   ],
   "source": [
    "df1.head(3)"
   ]
  },
  {
   "cell_type": "markdown",
   "metadata": {
    "colab_type": "text",
    "id": "IxfhoPJ2pDas"
   },
   "source": [
    "# Convert words to vector"
   ]
  },
  {
   "cell_type": "markdown",
   "metadata": {
    "colab_type": "text",
    "id": "NNs6N61wpPvc"
   },
   "source": [
    "## Using Google's Trained W2Vec on Google News"
   ]
  },
  {
   "cell_type": "code",
   "execution_count": null,
   "metadata": {
    "colab": {
     "autoexec": {
      "startup": false,
      "wait_interval": 0
     }
    },
    "colab_type": "code",
    "id": "hP5LVn4Oo0HA"
   },
   "outputs": [],
   "source": [
    "from gensim.models import KeyedVectors\n",
    "#!wget -c \"https://s3.amazonaws.com/dl4j-distribution/GoogleNews-vectors-negative300.bin.gz\"\n",
    "w2v_model_google = KeyedVectors.load_word2vec_format('GoogleNews-vectors-negative300.bin.gz', binary=True)"
   ]
  },
  {
   "cell_type": "code",
   "execution_count": 3,
   "metadata": {
    "colab": {
     "autoexec": {
      "startup": false,
      "wait_interval": 0
     },
     "base_uri": "https://localhost:8080/",
     "height": 285
    },
    "colab_type": "code",
    "executionInfo": {
     "elapsed": 11274,
     "status": "ok",
     "timestamp": 1530932429840,
     "user": {
      "displayName": "Vijay Bhati",
      "photoUrl": "https://lh3.googleusercontent.com/a/default-user=s128",
      "userId": "106065926741616959388"
     },
     "user_tz": -330
    },
    "id": "B9BI91EyqKdo",
    "outputId": "ceb089d8-44d2-4bbd-c2e2-b6a56118f451"
   },
   "outputs": [
    {
     "name": "stderr",
     "output_type": "stream",
     "text": [
      "/usr/local/lib/python3.6/dist-packages/ipykernel_launcher.py:1: DeprecationWarning: Call to deprecated `wv` (Attribute will be removed in 4.0.0, use self instead).\n",
      "  \"\"\"Entry point for launching an IPython kernel.\n",
      "/usr/local/lib/python3.6/dist-packages/gensim/matutils.py:737: FutureWarning: Conversion of the second argument of issubdtype from `int` to `np.signedinteger` is deprecated. In future, it will be treated as `np.int64 == np.dtype(int).type`.\n",
      "  if np.issubdtype(vec.dtype, np.int):\n"
     ]
    },
    {
     "data": {
      "text/plain": [
       "[('secretary', 0.7287614941596985),\n",
       " ('Assistant_Secretary', 0.7153509259223938),\n",
       " ('Undersecretary', 0.7121137380599976),\n",
       " ('Secre_tary', 0.6972907185554504),\n",
       " ('Secretery', 0.6963104605674744),\n",
       " ('Secreatry', 0.6765152812004089),\n",
       " ('ecretary', 0.671087384223938),\n",
       " ('Secretaries', 0.6705101728439331),\n",
       " ('Sectretary', 0.6645406484603882),\n",
       " ('Sectary', 0.6633391976356506)]"
      ]
     },
     "execution_count": 3,
     "metadata": {
      "tags": []
     },
     "output_type": "execute_result"
    }
   ],
   "source": [
    "w2v_model_google.wv.most_similar('Secretary')\n"
   ]
  },
  {
   "cell_type": "code",
   "execution_count": 4,
   "metadata": {
    "colab": {
     "autoexec": {
      "startup": false,
      "wait_interval": 0
     },
     "base_uri": "https://localhost:8080/",
     "height": 70
    },
    "colab_type": "code",
    "executionInfo": {
     "elapsed": 1196,
     "status": "ok",
     "timestamp": 1530932431113,
     "user": {
      "displayName": "Vijay Bhati",
      "photoUrl": "https://lh3.googleusercontent.com/a/default-user=s128",
      "userId": "106065926741616959388"
     },
     "user_tz": -330
    },
    "id": "pJ5Mjl2KqU-X",
    "outputId": "211f4197-4659-4305-dbc3-b90dc078b287"
   },
   "outputs": [
    {
     "name": "stderr",
     "output_type": "stream",
     "text": [
      "/usr/local/lib/python3.6/dist-packages/ipykernel_launcher.py:1: DeprecationWarning: Call to deprecated `wv` (Attribute will be removed in 4.0.0, use self instead).\n",
      "  \"\"\"Entry point for launching an IPython kernel.\n"
     ]
    },
    {
     "data": {
      "text/plain": [
       "300"
      ]
     },
     "execution_count": 4,
     "metadata": {
      "tags": []
     },
     "output_type": "execute_result"
    }
   ],
   "source": [
    "w2v_model_google.wv[\"word\"].size"
   ]
  },
  {
   "cell_type": "code",
   "execution_count": 31,
   "metadata": {
    "colab": {
     "autoexec": {
      "startup": false,
      "wait_interval": 0
     },
     "base_uri": "https://localhost:8080/",
     "height": 70
    },
    "colab_type": "code",
    "executionInfo": {
     "elapsed": 4845,
     "status": "ok",
     "timestamp": 1530932705951,
     "user": {
      "displayName": "Vijay Bhati",
      "photoUrl": "https://lh3.googleusercontent.com/a/default-user=s128",
      "userId": "106065926741616959388"
     },
     "user_tz": -330
    },
    "id": "Afj1Zk_yrBYb",
    "outputId": "9506a3f0-7507-412e-ca6f-4596aa7a6ddf"
   },
   "outputs": [
    {
     "name": "stderr",
     "output_type": "stream",
     "text": [
      "/usr/local/lib/python3.6/dist-packages/ipykernel_launcher.py:12: DeprecationWarning: Call to deprecated `wv` (Attribute will be removed in 4.0.0, use self instead).\n",
      "  if sys.path[0] == '':\n",
      "/usr/local/lib/python3.6/dist-packages/ipykernel_launcher.py:17: RuntimeWarning: invalid value encountered in true_divide\n"
     ]
    }
   ],
   "source": [
    "import random\n",
    "avg_vec_google = []\n",
    "datapoint = 3000\n",
    "sample_cols = random.sample(range(1, datapoint), 1001)\n",
    "\n",
    "for sent in df1['CleanedText_NoStem'].values[sample_cols]:\n",
    "    cnt = 0\n",
    "    sent_vec = np.zeros(300)\n",
    "    sent = sent.decode(\"utf-8\") \n",
    "    for word in sent.split():\n",
    "        try:\n",
    "            wvec = w2v_model_google.wv[word]\n",
    "            sent_vec += wvec\n",
    "            cnt += 1\n",
    "        except: \n",
    "            pass\n",
    "    sent_vec /= cnt\n",
    "    avg_vec_google.append(sent_vec)\n",
    "avg_vec_google = np.array(avg_vec_google)"
   ]
  },
  {
   "cell_type": "code",
   "execution_count": 33,
   "metadata": {
    "colab": {
     "autoexec": {
      "startup": false,
      "wait_interval": 0
     },
     "base_uri": "https://localhost:8080/",
     "height": 34
    },
    "colab_type": "code",
    "executionInfo": {
     "elapsed": 1555,
     "status": "ok",
     "timestamp": 1530932878605,
     "user": {
      "displayName": "Vijay Bhati",
      "photoUrl": "https://lh3.googleusercontent.com/a/default-user=s128",
      "userId": "106065926741616959388"
     },
     "user_tz": -330
    },
    "id": "E8SIUaYEtc10",
    "outputId": "184cb7ac-0b2a-4138-862e-fc3dc8d3e7ee"
   },
   "outputs": [
    {
     "data": {
      "text/plain": [
       "True"
      ]
     },
     "execution_count": 33,
     "metadata": {
      "tags": []
     },
     "output_type": "execute_result"
    }
   ],
   "source": [
    "np.any(np.isnan(avg_vec_google))"
   ]
  },
  {
   "cell_type": "code",
   "execution_count": 34,
   "metadata": {
    "colab": {
     "autoexec": {
      "startup": false,
      "wait_interval": 0
     },
     "base_uri": "https://localhost:8080/",
     "height": 34
    },
    "colab_type": "code",
    "executionInfo": {
     "elapsed": 1259,
     "status": "ok",
     "timestamp": 1530932886999,
     "user": {
      "displayName": "Vijay Bhati",
      "photoUrl": "https://lh3.googleusercontent.com/a/default-user=s128",
      "userId": "106065926741616959388"
     },
     "user_tz": -330
    },
    "id": "IzKzbGejtczP",
    "outputId": "ee4d61da-f7aa-4f96-8392-bba1cc6e5537"
   },
   "outputs": [
    {
     "data": {
      "text/plain": [
       "False"
      ]
     },
     "execution_count": 34,
     "metadata": {
      "tags": []
     },
     "output_type": "execute_result"
    }
   ],
   "source": [
    "np.all(np.isfinite(avg_vec_google))"
   ]
  },
  {
   "cell_type": "code",
   "execution_count": null,
   "metadata": {
    "colab": {
     "autoexec": {
      "startup": false,
      "wait_interval": 0
     }
    },
    "colab_type": "code",
    "id": "qaNJ00rjtcvx"
   },
   "outputs": [],
   "source": [
    "col_mean = np.nanmean(avg_vec_google, axis=0)"
   ]
  },
  {
   "cell_type": "code",
   "execution_count": 36,
   "metadata": {
    "colab": {
     "autoexec": {
      "startup": false,
      "wait_interval": 0
     },
     "base_uri": "https://localhost:8080/",
     "height": 52
    },
    "colab_type": "code",
    "executionInfo": {
     "elapsed": 1219,
     "status": "ok",
     "timestamp": 1530932903196,
     "user": {
      "displayName": "Vijay Bhati",
      "photoUrl": "https://lh3.googleusercontent.com/a/default-user=s128",
      "userId": "106065926741616959388"
     },
     "user_tz": -330
    },
    "id": "RFet5pu9tcrJ",
    "outputId": "9f520da6-f435-4322-ef17-0ee1e87c9909"
   },
   "outputs": [
    {
     "data": {
      "text/plain": [
       "(array([109, 109, 109, ..., 972, 972, 972]),\n",
       " array([  0,   1,   2, ..., 297, 298, 299]))"
      ]
     },
     "execution_count": 36,
     "metadata": {
      "tags": []
     },
     "output_type": "execute_result"
    }
   ],
   "source": [
    "inds = np.where(np.isnan(avg_vec_google)) \n",
    "inds\n"
   ]
  },
  {
   "cell_type": "code",
   "execution_count": null,
   "metadata": {
    "colab": {
     "autoexec": {
      "startup": false,
      "wait_interval": 0
     }
    },
    "colab_type": "code",
    "id": "nAqElccTtlZX"
   },
   "outputs": [],
   "source": [
    "avg_vec_google[inds] = np.take(col_mean, inds[1])"
   ]
  },
  {
   "cell_type": "code",
   "execution_count": 38,
   "metadata": {
    "colab": {
     "autoexec": {
      "startup": false,
      "wait_interval": 0
     },
     "base_uri": "https://localhost:8080/",
     "height": 247
    },
    "colab_type": "code",
    "executionInfo": {
     "elapsed": 1305,
     "status": "ok",
     "timestamp": 1530932938158,
     "user": {
      "displayName": "Vijay Bhati",
      "photoUrl": "https://lh3.googleusercontent.com/a/default-user=s128",
      "userId": "106065926741616959388"
     },
     "user_tz": -330
    },
    "id": "MfOY7Sh5trh4",
    "outputId": "114c5086-6faf-4017-92b7-3cc5b585e422"
   },
   "outputs": [
    {
     "data": {
      "text/plain": [
       "array([[ 0.04753368,  0.01504507, -0.0101147 , ..., -0.02910873,\n",
       "         0.01647589, -0.01087545],\n",
       "       [-0.06260173,  0.05096436, -0.08337402, ..., -0.12487284,\n",
       "        -0.05589294,  0.08426921],\n",
       "       [ 0.05987947,  0.05090068,  0.02056292, ..., -0.07432445,\n",
       "        -0.01330204,  0.02458463],\n",
       "       ...,\n",
       "       [ 0.02535722,  0.05004649,  0.02385925, ..., -0.0734846 ,\n",
       "         0.00853295,  0.0134999 ],\n",
       "       [ 0.02437418,  0.01793511,  0.00687065, ..., -0.03399273,\n",
       "         0.01450141,  0.01481058],\n",
       "       [ 0.03974567,  0.03144396,  0.01209868, ..., -0.07372945,\n",
       "         0.0045726 ,  0.0053955 ]])"
      ]
     },
     "execution_count": 38,
     "metadata": {
      "tags": []
     },
     "output_type": "execute_result"
    }
   ],
   "source": [
    "avg_vec_google"
   ]
  },
  {
   "cell_type": "code",
   "execution_count": null,
   "metadata": {
    "colab": {
     "autoexec": {
      "startup": false,
      "wait_interval": 0
     }
    },
    "colab_type": "code",
    "id": "G53uHNefsF7w"
   },
   "outputs": [],
   "source": [
    "from sklearn import preprocessing\n",
    "avg_vec_google_norm = preprocessing.normalize(avg_vec_google)"
   ]
  },
  {
   "cell_type": "markdown",
   "metadata": {
    "colab_type": "text",
    "id": "jcedAZJ9uLRs"
   },
   "source": [
    "## Visualizing using TSNE"
   ]
  },
  {
   "cell_type": "code",
   "execution_count": 40,
   "metadata": {
    "colab": {
     "autoexec": {
      "startup": false,
      "wait_interval": 0
     },
     "base_uri": "https://localhost:8080/",
     "height": 565
    },
    "colab_type": "code",
    "executionInfo": {
     "elapsed": 30447,
     "status": "ok",
     "timestamp": 1530933004052,
     "user": {
      "displayName": "Vijay Bhati",
      "photoUrl": "https://lh3.googleusercontent.com/a/default-user=s128",
      "userId": "106065926741616959388"
     },
     "user_tz": -330
    },
    "id": "4zCAa-mytWKt",
    "outputId": "990d569a-02ec-4537-e4fa-cb14cb077bdc"
   },
   "outputs": [
    {
     "name": "stderr",
     "output_type": "stream",
     "text": [
      "/usr/local/lib/python3.6/dist-packages/pandas/core/series.py:696: FutureWarning: \n",
      "Passing list-likes to .loc or [] with any missing label will raise\n",
      "KeyError in the future, you can use .reindex() as an alternative.\n",
      "\n",
      "See the documentation here:\n",
      "http://pandas.pydata.org/pandas-docs/stable/indexing.html#deprecate-loc-reindex-listlike\n",
      "  return self.loc[key]\n"
     ]
    },
    {
     "data": {
      "image/png": "[encoded data removed]",
      "text/plain": [
       "<matplotlib.figure.Figure at 0x7fbb99911d30>"
      ]
     },
     "metadata": {
      "tags": []
     },
     "output_type": "display_data"
    }
   ],
   "source": [
    "# Perplexity = 20\n",
    "\n",
    "from sklearn.manifold import TSNE\n",
    "import random\n",
    "\n",
    "n_samples = 1000\n",
    "sample_cols = random.sample(range(1, avg_vec_google.shape[0]), n_samples)\n",
    "sample_features = avg_vec_google[sample_cols]\n",
    "\n",
    "sample_class = df1['label'][sample_cols]\n",
    "sample_class = sample_class[:,np.newaxis]\n",
    "model = TSNE(n_components=2,random_state=0,perplexity=20)\n",
    "\n",
    "embedded_data = model.fit_transform(sample_features)\n",
    "final_data = np.concatenate((embedded_data,sample_class),axis=1)\n",
    "tsne_data = pd.DataFrame(data=final_data,columns=[\"Dim1\",\"Dim2\",\"label\"])\n",
    "\n",
    "sns.FacetGrid(tsne_data,hue=\"label\",size=6).map(plt.scatter,\"Dim1\",\"Dim2\").add_legend()\n",
    "plt.show()"
   ]
  },
  {
   "cell_type": "code",
   "execution_count": 41,
   "metadata": {
    "colab": {
     "autoexec": {
      "startup": false,
      "wait_interval": 0
     },
     "base_uri": "https://localhost:8080/",
     "height": 565
    },
    "colab_type": "code",
    "executionInfo": {
     "elapsed": 34257,
     "status": "ok",
     "timestamp": 1530933069675,
     "user": {
      "displayName": "Vijay Bhati",
      "photoUrl": "https://lh3.googleusercontent.com/a/default-user=s128",
      "userId": "106065926741616959388"
     },
     "user_tz": -330
    },
    "id": "_9XpZgsft0-T",
    "outputId": "92822907-7de5-4f22-fdff-8dc78ee242c9"
   },
   "outputs": [
    {
     "name": "stderr",
     "output_type": "stream",
     "text": [
      "/usr/local/lib/python3.6/dist-packages/pandas/core/series.py:696: FutureWarning: \n",
      "Passing list-likes to .loc or [] with any missing label will raise\n",
      "KeyError in the future, you can use .reindex() as an alternative.\n",
      "\n",
      "See the documentation here:\n",
      "http://pandas.pydata.org/pandas-docs/stable/indexing.html#deprecate-loc-reindex-listlike\n",
      "  return self.loc[key]\n"
     ]
    },
    {
     "data": {
      "image/png": "[encoded data removed]",
      "text/plain": [
       "<matplotlib.figure.Figure at 0x7fbb99c68390>"
      ]
     },
     "metadata": {
      "tags": []
     },
     "output_type": "display_data"
    }
   ],
   "source": [
    "# Perplexity = 30\n",
    "\n",
    "from sklearn.manifold import TSNE\n",
    "import random\n",
    "\n",
    "n_samples = 1000\n",
    "sample_cols = random.sample(range(1, avg_vec_google.shape[0]), n_samples)\n",
    "sample_features = avg_vec_google[sample_cols]\n",
    "\n",
    "sample_class = df1['label'][sample_cols]\n",
    "sample_class = sample_class[:,np.newaxis]\n",
    "model = TSNE(n_components=2,random_state=0,perplexity=30)\n",
    "\n",
    "embedded_data = model.fit_transform(sample_features)\n",
    "final_data = np.concatenate((embedded_data,sample_class),axis=1)\n",
    "tsne_data = pd.DataFrame(data=final_data,columns=[\"Dim1\",\"Dim2\",\"label\"])\n",
    "\n",
    "sns.FacetGrid(tsne_data,hue=\"label\",size=6).map(plt.scatter,\"Dim1\",\"Dim2\").add_legend()\n",
    "plt.show()"
   ]
  },
  {
   "cell_type": "code",
   "execution_count": 42,
   "metadata": {
    "colab": {
     "autoexec": {
      "startup": false,
      "wait_interval": 0
     },
     "base_uri": "https://localhost:8080/",
     "height": 565
    },
    "colab_type": "code",
    "executionInfo": {
     "elapsed": 41555,
     "status": "ok",
     "timestamp": 1530933111250,
     "user": {
      "displayName": "Vijay Bhati",
      "photoUrl": "https://lh3.googleusercontent.com/a/default-user=s128",
      "userId": "106065926741616959388"
     },
     "user_tz": -330
    },
    "id": "yii7nK7OuED9",
    "outputId": "98906d32-f4ed-4da6-8fa5-1951627c0c3e"
   },
   "outputs": [
    {
     "name": "stderr",
     "output_type": "stream",
     "text": [
      "/usr/local/lib/python3.6/dist-packages/pandas/core/series.py:696: FutureWarning: \n",
      "Passing list-likes to .loc or [] with any missing label will raise\n",
      "KeyError in the future, you can use .reindex() as an alternative.\n",
      "\n",
      "See the documentation here:\n",
      "http://pandas.pydata.org/pandas-docs/stable/indexing.html#deprecate-loc-reindex-listlike\n",
      "  return self.loc[key]\n"
     ]
    },
    {
     "data": {
      "image/png": "[encoded data removed]",
      "text/plain": [
       "<matplotlib.figure.Figure at 0x7fbb9503f4a8>"
      ]
     },
     "metadata": {
      "tags": []
     },
     "output_type": "display_data"
    }
   ],
   "source": [
    "# Perplexity = 50\n",
    "\n",
    "from sklearn.manifold import TSNE\n",
    "import random\n",
    "\n",
    "n_samples = 1000\n",
    "sample_cols = random.sample(range(1, avg_vec_google.shape[0]), n_samples)\n",
    "sample_features = avg_vec_google[sample_cols]\n",
    "\n",
    "sample_class = df1['label'][sample_cols]\n",
    "sample_class = sample_class[:,np.newaxis]\n",
    "model = TSNE(n_components=2,random_state=0,perplexity=50)\n",
    "\n",
    "embedded_data = model.fit_transform(sample_features)\n",
    "final_data = np.concatenate((embedded_data,sample_class),axis=1)\n",
    "tsne_data = pd.DataFrame(data=final_data,columns=[\"Dim1\",\"Dim2\",\"label\"])\n",
    "\n",
    "sns.FacetGrid(tsne_data,hue=\"label\",size=6).map(plt.scatter,\"Dim1\",\"Dim2\").add_legend()\n",
    "plt.show()"
   ]
  },
  {
   "cell_type": "markdown",
   "metadata": {
    "colab_type": "text",
    "id": "0W9OdWlgDm5h"
   },
   "source": [
    "### Observation:-\n",
    "* We can say that there is less overlapping fake and real news points in the graph.\n",
    "* Therefore Average Word2Vec will give the best classifying the news as fake or real."
   ]
  },
  {
   "cell_type": "markdown",
   "metadata": {
    "colab_type": "text",
    "id": "4WskYMLxuI4A"
   },
   "source": [
    "# Avg Word2vec\n",
    "\n",
    "* word2vec is an algorithm for constructing vector representations of words, also known as word embeddings. The vector for each word is a semantic description of how that word is used in context, so two words that are used similarly in text will get similar vector represenations. Once you map words into vector space, you can then use vector math to find words that have similar semantics."
   ]
  },
  {
   "cell_type": "code",
   "execution_count": null,
   "metadata": {
    "colab": {
     "autoexec": {
      "startup": false,
      "wait_interval": 0
     }
    },
    "colab_type": "code",
    "id": "h0AS28N7vIEZ"
   },
   "outputs": [],
   "source": [
    "from sklearn.base import TransformerMixin, BaseEstimator\n",
    "from gensim.models import Word2Vec\n",
    "class w2v(TransformerMixin, BaseEstimator):\n",
    "\n",
    "    def __init__(self, size=100, alpha=0.025, window=5, min_count=10, max_vocab_size=None, sample=1e-3, seed=1,\n",
    "                 workers=3, min_alpha=0.0001, sg=1, hs=0, negative=5, cbow_mean=1, iter=10, null_word=0,\n",
    "                 trim_rule=None, sorted_vocab=1, batch_words=10000):\n",
    "        \"\"\"\n",
    "        Sklearn wrapper for Word2Vec model. See gensim.models.Word2Vec for parameter details.\n",
    "        \"\"\"\n",
    "        self.model = None\n",
    "        self.size = size\n",
    "        self.alpha = alpha\n",
    "        self.window = window\n",
    "        self.min_count = min_count\n",
    "        self.max_vocab_size = max_vocab_size\n",
    "        self.sample = sample\n",
    "        self.seed = seed\n",
    "        self.workers = workers\n",
    "        self.min_alpha = min_alpha\n",
    "        self.sg = sg\n",
    "        self.hs = hs\n",
    "        self.negative = negative\n",
    "        self.cbow_mean = int(cbow_mean)\n",
    "        self.iter = iter\n",
    "        self.null_word = null_word\n",
    "        self.trim_rule = trim_rule\n",
    "        self.sorted_vocab = sorted_vocab\n",
    "        self.batch_words = batch_words\n",
    "\n",
    "    def fit(self, X, y=None):\n",
    "        \"\"\"\n",
    "        Fit the model according to the given training data.\n",
    "        Calls gensim.models.Word2Vec\n",
    "        \"\"\"\n",
    "        X_tokenized = X.apply(lambda sent: sent.split())\n",
    "        \n",
    "        self.model = Word2Vec(\n",
    "            sentences=X_tokenized, size=self.size, alpha=self.alpha,\n",
    "            window=self.window, min_count=self.min_count, max_vocab_size=self.max_vocab_size,\n",
    "            sample=self.sample, seed=self.seed, workers=self.workers, min_alpha=self.min_alpha,\n",
    "            sg=self.sg, hs=self.hs, negative=self.negative, cbow_mean=self.cbow_mean, \n",
    "            iter=self.iter, null_word=self.null_word, trim_rule=self.trim_rule,\n",
    "            sorted_vocab=self.sorted_vocab, batch_words=self.batch_words\n",
    "        )\n",
    "        return self\n",
    "\n",
    "    def transform(self, X):\n",
    "        return X.apply(self.avg_word_vector)\n",
    "    \n",
    "    def avg_word_vector(self, sent):\n",
    "        \"\"\"\n",
    "        Returns an average word vector \n",
    "        from list of words\n",
    "        if words are not in the wordvector\n",
    "        vocabulary or in wordlist is \n",
    "        empty then returns a zero vector\n",
    "        \"\"\"\n",
    "        word_list = sent.split()\n",
    "        sent_vec = np.zeros(self.size)\n",
    "        word_cnt = 0\n",
    "        for word in word_list:\n",
    "            try:\n",
    "                vec = self.model.wv[word]\n",
    "                sent_vec += vec\n",
    "                word_cnt += 1\n",
    "            except KeyError:\n",
    "                pass\n",
    "        if word_cnt != 0:\n",
    "            sent_vec /= word_cnt\n",
    "        return pd.Series(sent_vec)\n",
    "    \n",
    "    def most_similar(self, word):\n",
    "        return self.model.wv.most_similar(word)\n",
    "    \n",
    "    def vocabulary(self):\n",
    "        \"\"\"\n",
    "        Returns a Dataframe with \n",
    "        word as index and rows as vectors\n",
    "        \"\"\"\n",
    "        # build a list of the terms, integer indices,\n",
    "        # and term counts from the word2vec model vocabulary\n",
    "        ordered_vocab = [(term, voc.index, voc.count)\n",
    "                         for term, voc in self.model.wv.vocab.items()]\n",
    "\n",
    "        # sort by the term counts, so the most common terms appear first\n",
    "        ordered_vocab = sorted(ordered_vocab, key=lambda k : k[2], reverse=True)\n",
    "\n",
    "        # unzip the terms, integer indices, and counts into separate lists\n",
    "        ordered_terms, term_indices, term_counts = zip(*ordered_vocab)\n",
    "\n",
    "        # create a DataFrame with the word vectors as data,\n",
    "        # and the terms as row labels\n",
    "        wordvectors = pd.DataFrame(self.model.wv.vectors_norm[term_indices, :],\n",
    "                                    index=ordered_terms)\n",
    "\n",
    "        return wordvectors"
   ]
  },
  {
   "cell_type": "code",
   "execution_count": 32,
   "metadata": {
    "colab": {
     "autoexec": {
      "startup": false,
      "wait_interval": 0
     },
     "base_uri": "https://localhost:8080/",
     "height": 34
    },
    "colab_type": "code",
    "executionInfo": {
     "elapsed": 206098,
     "status": "ok",
     "timestamp": 1530933979088,
     "user": {
      "displayName": "Vijay Bhati",
      "photoUrl": "https://lh3.googleusercontent.com/a/default-user=s128",
      "userId": "106065926741616959388"
     },
     "user_tz": -330
    },
    "id": "RqNe96Sbv3Fe",
    "outputId": "240fbddb-d8aa-452b-ef96-093a2dce3e6b"
   },
   "outputs": [
    {
     "data": {
      "text/plain": [
       "(6256, 100)"
      ]
     },
     "execution_count": 32,
     "metadata": {
      "tags": []
     },
     "output_type": "execute_result"
    }
   ],
   "source": [
    "w2v_model = w2v()\n",
    "\n",
    "w2v_features = w2v_model.fit_transform(df1['text'])\n",
    "w2v_features.shape"
   ]
  },
  {
   "cell_type": "code",
   "execution_count": null,
   "metadata": {
    "colab": {
     "autoexec": {
      "startup": false,
      "wait_interval": 0
     }
    },
    "colab_type": "code",
    "id": "vB4ZnwSTv8zm"
   },
   "outputs": [],
   "source": [
    "from sklearn import preprocessing\n",
    "avg_w2v_norm = preprocessing.normalize(w2v_features)"
   ]
  },
  {
   "cell_type": "markdown",
   "metadata": {},
   "source": [
    "# Applying Classification Techniques"
   ]
  },
  {
   "cell_type": "code",
   "execution_count": null,
   "metadata": {
    "colab": {
     "autoexec": {
      "startup": false,
      "wait_interval": 0
     }
    },
    "colab_type": "code",
    "id": "M_FMyrLZw-ro"
   },
   "outputs": [],
   "source": [
    "# spliting data into train and test\n",
    "from sklearn.model_selection import train_test_split\n",
    "X_train, X_test, y_train, y_test = train_test_split(avg_w2v_norm,df1['label'],\n",
    "                                                   test_size=0.3, shuffle=False)"
   ]
  },
  {
   "cell_type": "markdown",
   "metadata": {
    "colab_type": "text",
    "id": "miMMrtO0Erls"
   },
   "source": [
    "# K Nearest Neighbor"
   ]
  },
  {
   "cell_type": "code",
   "execution_count": 40,
   "metadata": {
    "colab": {
     "autoexec": {
      "startup": false,
      "wait_interval": 0
     },
     "base_uri": "https://localhost:8080/",
     "height": 423
    },
    "colab_type": "code",
    "executionInfo": {
     "elapsed": 95987,
     "status": "ok",
     "timestamp": 1530934627407,
     "user": {
      "displayName": "Vijay Bhati",
      "photoUrl": "https://lh3.googleusercontent.com/a/default-user=s128",
      "userId": "106065926741616959388"
     },
     "user_tz": -330
    },
    "id": "rtZExW6YxIJQ",
    "outputId": "75306b82-e979-4bca-a7de-3c001de1b490"
   },
   "outputs": [
    {
     "name": "stderr",
     "output_type": "stream",
     "text": [
      "/usr/local/lib/python3.6/dist-packages/sklearn/cross_validation.py:41: DeprecationWarning: This module was deprecated in version 0.18 in favor of the model_selection module into which all the refactored classes and functions are moved. Also note that the interface of the new CV iterators are different from that of this module. This module will be removed in 0.20.\n",
      "  \"This module will be removed in 0.20.\", DeprecationWarning)\n"
     ]
    },
    {
     "name": "stdout",
     "output_type": "stream",
     "text": [
      "\n",
      "The optimal number of neighbors is 5.\n"
     ]
    },
    {
     "data": {
      "image/png": "[encoded data removed]",
      "text/plain": [
       "<matplotlib.figure.Figure at 0x7fc3f6563550>"
      ]
     },
     "metadata": {
      "tags": []
     },
     "output_type": "display_data"
    },
    {
     "name": "stdout",
     "output_type": "stream",
     "text": [
      "the misclassification error for each k value is :  [0.109 0.106 0.103 0.103 0.103 0.104 0.108 0.107 0.111 0.11  0.109 0.107\n",
      " 0.108 0.108 0.109 0.108 0.109 0.108 0.108 0.108 0.111 0.112 0.111 0.111\n",
      " 0.111]\n"
     ]
    }
   ],
   "source": [
    "# loading libraries\n",
    "import numpy as np\n",
    "import pandas as pd\n",
    "import matplotlib.pyplot as plt\n",
    "from sklearn.cross_validation import train_test_split\n",
    "from sklearn.neighbors import KNeighborsClassifier\n",
    "from sklearn.metrics import accuracy_score\n",
    "from sklearn.cross_validation import cross_val_score\n",
    "from collections import Counter\n",
    "from sklearn.metrics import accuracy_score\n",
    "from sklearn import cross_validation\n",
    "\n",
    "#creating odd list of K for KNN\n",
    "\n",
    "myList = list(range(0,50))\n",
    "neighbors = list(filter(lambda x: x % 2 != 0, myList))\n",
    "\n",
    "# empty list that will hold cv scores\n",
    "cv_scores = []\n",
    "\n",
    "# perform 10-fold cross validation\n",
    "for k in neighbors:\n",
    "    knn = KNeighborsClassifier(n_neighbors=k)\n",
    "    scores = cross_val_score(knn, X_train, y_train, cv=10, scoring='accuracy')\n",
    "    cv_scores.append(scores.mean())\n",
    "\n",
    "# changing to misclassification error\n",
    "MSE = [1 - x for x in cv_scores]\n",
    "\n",
    "# determining best k\n",
    "optimal_k = neighbors[MSE.index(min(MSE))]\n",
    "print('\\nThe optimal number of neighbors is %d.' % optimal_k)\n",
    "\n",
    "# plot misclassification error vs k \n",
    "plt.plot(neighbors, MSE)\n",
    "\n",
    "for xy in zip(neighbors, np.round(MSE,3)):\n",
    "    plt.annotate('(%s, %s)' % xy, xy=xy, textcoords='data')\n",
    "\n",
    "plt.xlabel('Number of Neighbors K')\n",
    "plt.ylabel('Misclassification Error')\n",
    "plt.show()\n",
    "\n",
    "print(\"the misclassification error for each k value is : \", np.round(MSE,3))"
   ]
  },
  {
   "cell_type": "code",
   "execution_count": 41,
   "metadata": {
    "colab": {
     "autoexec": {
      "startup": false,
      "wait_interval": 0
     },
     "base_uri": "https://localhost:8080/",
     "height": 52
    },
    "colab_type": "code",
    "executionInfo": {
     "elapsed": 2778,
     "status": "ok",
     "timestamp": 1530934630271,
     "user": {
      "displayName": "Vijay Bhati",
      "photoUrl": "https://lh3.googleusercontent.com/a/default-user=s128",
      "userId": "106065926741616959388"
     },
     "user_tz": -330
    },
    "id": "MgTTKA3OyAfb",
    "outputId": "1e50181d-1263-44b1-dc7f-9dd09bfbed9c"
   },
   "outputs": [
    {
     "name": "stdout",
     "output_type": "stream",
     "text": [
      "\n",
      "The accuracy of the knn classifier for k = 5 is 89.611082%\n"
     ]
    }
   ],
   "source": [
    "# KNN with k = optimal_k \n",
    "# instantiate learning model k = optimal_k\n",
    "knn_optimal = KNeighborsClassifier(n_neighbors=optimal_k)\n",
    "\n",
    "# fitting the model\n",
    "knn_optimal.fit(X_train, y_train)\n",
    "\n",
    "# predict the response\n",
    "pred = knn_optimal.predict(X_test)\n",
    "\n",
    "# evaluate accuracy\n",
    "acc = accuracy_score(y_test, pred) * 100\n",
    "print('\\nThe accuracy of the knn classifier for k = %d is %f%%' % (optimal_k, acc))"
   ]
  },
  {
   "cell_type": "markdown",
   "metadata": {
    "colab_type": "text",
    "id": "0IDjWkUZ6EYB"
   },
   "source": [
    "## Naive Bayes"
   ]
  },
  {
   "cell_type": "code",
   "execution_count": 74,
   "metadata": {
    "colab": {
     "autoexec": {
      "startup": false,
      "wait_interval": 0
     },
     "base_uri": "https://localhost:8080/",
     "height": 34
    },
    "colab_type": "code",
    "executionInfo": {
     "elapsed": 6611,
     "status": "ok",
     "timestamp": 1530936201466,
     "user": {
      "displayName": "Vijay Bhati",
      "photoUrl": "https://lh3.googleusercontent.com/a/default-user=s128",
      "userId": "106065926741616959388"
     },
     "user_tz": -330
    },
    "id": "HCRAyrE05_ki",
    "outputId": "9cf7fec4-0d67-436c-fcef-3b05a22b493f"
   },
   "outputs": [
    {
     "data": {
      "text/plain": [
       "MultinomialNB(alpha=1.0, class_prior=None, fit_prior=True)"
      ]
     },
     "execution_count": 74,
     "metadata": {
      "tags": []
     },
     "output_type": "execute_result"
    }
   ],
   "source": [
    "from sklearn.naive_bayes import MultinomialNB\n",
    "from sklearn.metrics import classification_report\n",
    "clf = MultinomialNB()\n",
    "clf.fit(X_train, y_train)"
   ]
  },
  {
   "cell_type": "code",
   "execution_count": 75,
   "metadata": {
    "colab": {
     "autoexec": {
      "startup": false,
      "wait_interval": 0
     },
     "base_uri": "https://localhost:8080/",
     "height": 194
    },
    "colab_type": "code",
    "executionInfo": {
     "elapsed": 2567,
     "status": "ok",
     "timestamp": 1530936210346,
     "user": {
      "displayName": "Vijay Bhati",
      "photoUrl": "https://lh3.googleusercontent.com/a/default-user=s128",
      "userId": "106065926741616959388"
     },
     "user_tz": -330
    },
    "id": "SCs8EJ9G5_eX",
    "outputId": "1cb11c5b-a227-4307-b66d-d629b803096b"
   },
   "outputs": [
    {
     "name": "stdout",
     "output_type": "stream",
     "text": [
      "Accuracy on test set: 0.7464038359083645\n",
      "\n",
      "                    Classification Report\n",
      "             precision    recall  f1-score   support\n",
      "\n",
      "       FAKE       0.99      0.50      0.66       939\n",
      "       REAL       0.67      0.99      0.80       938\n",
      "\n",
      "avg / total       0.83      0.75      0.73      1877\n",
      "\n"
     ]
    }
   ],
   "source": [
    "y_pred = clf.predict(X_test)\n",
    "\n",
    "print('Accuracy on test set:', accuracy_score(y_test, y_pred))\n",
    "print('\\n                    Classification Report')\n",
    "print(classification_report(y_test, y_pred))"
   ]
  },
  {
   "cell_type": "markdown",
   "metadata": {
    "colab_type": "text",
    "id": "FDatI9p46vBD"
   },
   "source": [
    "# Logistic Regression"
   ]
  },
  {
   "cell_type": "code",
   "execution_count": null,
   "metadata": {
    "colab": {
     "autoexec": {
      "startup": false,
      "wait_interval": 0
     }
    },
    "colab_type": "code",
    "id": "9GNJSf5x6xfJ"
   },
   "outputs": [],
   "source": [
    "from sklearn.model_selection import train_test_split\n",
    "from sklearn.naive_bayes import MultinomialNB\n",
    "from sklearn.naive_bayes import GaussianNB\n",
    "from sklearn.metrics import classification_report\n",
    "from sklearn.metrics import accuracy_score\n",
    "from sklearn.metrics import confusion_matrix\n",
    "from sklearn.preprocessing import Normalizer\n",
    "from sklearn.linear_model import LogisticRegression\n",
    "from sklearn.model_selection import RandomizedSearchCV"
   ]
  },
  {
   "cell_type": "code",
   "execution_count": 78,
   "metadata": {
    "colab": {
     "autoexec": {
      "startup": false,
      "wait_interval": 0
     },
     "base_uri": "https://localhost:8080/",
     "height": 34
    },
    "colab_type": "code",
    "executionInfo": {
     "elapsed": 19970,
     "status": "ok",
     "timestamp": 1530936413783,
     "user": {
      "displayName": "Vijay Bhati",
      "photoUrl": "https://lh3.googleusercontent.com/a/default-user=s128",
      "userId": "106065926741616959388"
     },
     "user_tz": -330
    },
    "id": "zLUQpvbI6xc_",
    "outputId": "59fbc4c3-21ee-4f6e-888b-8c02ada1382b"
   },
   "outputs": [
    {
     "name": "stdout",
     "output_type": "stream",
     "text": [
      "Accuracy on test set: 0.9062333510921684\n"
     ]
    }
   ],
   "source": [
    "# Train model with default hyperparameter\n",
    "clf = LogisticRegression()\n",
    "clf.fit(X_train, y_train)\n",
    "\n",
    "print('Accuracy on test set:', clf.score(X_test, y_test))"
   ]
  },
  {
   "cell_type": "code",
   "execution_count": 79,
   "metadata": {
    "colab": {
     "autoexec": {
      "startup": false,
      "wait_interval": 0
     },
     "base_uri": "https://localhost:8080/",
     "height": 34
    },
    "colab_type": "code",
    "executionInfo": {
     "elapsed": 29585,
     "status": "ok",
     "timestamp": 1530936443979,
     "user": {
      "displayName": "Vijay Bhati",
      "photoUrl": "https://lh3.googleusercontent.com/a/default-user=s128",
      "userId": "106065926741616959388"
     },
     "user_tz": -330
    },
    "id": "IClBE96R6xaw",
    "outputId": "6d5b1a94-4f66-4193-bd8b-4c321e1907d5"
   },
   "outputs": [
    {
     "name": "stdout",
     "output_type": "stream",
     "text": [
      "Accuracy on test set: 0.9168886521044219\n"
     ]
    }
   ],
   "source": [
    "# Column standardization\n",
    "from sklearn.pipeline import Pipeline\n",
    "from sklearn.preprocessing import StandardScaler\n",
    "\n",
    "clf = Pipeline([('Scalar', StandardScaler(with_mean=False)),\n",
    "               ('logreg', LogisticRegression())])\n",
    "clf.fit(X_train, y_train)\n",
    "print('Accuracy on test set:', clf.score(X_test, y_test))"
   ]
  },
  {
   "cell_type": "code",
   "execution_count": null,
   "metadata": {
    "colab": {
     "autoexec": {
      "startup": false,
      "wait_interval": 0
     }
    },
    "colab_type": "code",
    "id": "9fDJ6F4T7Pf8"
   },
   "outputs": [],
   "source": [
    "from sklearn.model_selection import GridSearchCV\n",
    "\n",
    "def search_param(clf, param_grid, X, y, test_size=0.3, cv=10, n_jobs=-1,\n",
    "                 random_search=False, n_iter=10, return_train_score=False):\n",
    "    \"\"\"\n",
    "    Splits the data using time based slicing\n",
    "    Performs grid search to search for optimal parameter\n",
    "    using exaustive or random search\n",
    "    Print accuracy and classification report with\n",
    "    best parameter on test set\n",
    "    \"\"\"\n",
    "    \n",
    "    # time based splitting of dataset\n",
    "    X_train, X_test, y_train, y_test = train_test_split_by_time(X, y, test_size)\n",
    "    \n",
    "    if random_search:\n",
    "        grid_search = RandomizedSearchCV(clf, param_grid, n_iter=n_iter, \n",
    "                                         n_jobs=n_jobs, verbose=1, cv=cv, \n",
    "                                         return_train_score=return_train_score)\n",
    "    else:\n",
    "        grid_search = GridSearchCV(clf, param_grid, n_jobs=n_jobs, \n",
    "                                   verbose=1, cv=cv, \n",
    "                                   return_train_score=return_train_score)\n",
    "    \n",
    "    print('Performing grid search...\\n')\n",
    "    print('Parameters:')\n",
    "    print(param_grid)\n",
    "    print()\n",
    "    \n",
    "    grid_search.fit(X_train, y_train)\n",
    "    print('\\n')\n",
    "    \n",
    "    print(\"Best CV score: %f\" % grid_search.best_score_)\n",
    "    print(\"Best parameters set:\")\n",
    "    best_parameters = grid_search.best_estimator_.get_params()\n",
    "    for param_name in sorted(param_grid.keys()):\n",
    "        print(\"\\t%s: %r\" % (param_name, best_parameters[param_name]))\n",
    "        \n",
    "    print(\"\\nTest score with best_estimator_: %f\" % grid_search.best_estimator_.score(X_test, y_test))\n",
    "    print(\"\\n\")\n",
    "    print(\"                 Classification Report Test Data\")\n",
    "    print(classification_report(y_test, grid_search.best_estimator_.predict(X_test)))\n",
    "    \n",
    "    return grid_search"
   ]
  },
  {
   "cell_type": "code",
   "execution_count": null,
   "metadata": {
    "colab": {
     "autoexec": {
      "startup": false,
      "wait_interval": 0
     }
    },
    "colab_type": "code",
    "id": "T77vBNEO74ih"
   },
   "outputs": [],
   "source": [
    "def train_test_split_by_time(X, y, test_ratio = 0.3):\n",
    "    \"\"\"\n",
    "    y parameter needs to be a pandas series\n",
    "    with timestamp as its index\n",
    "    \"\"\"\n",
    "    \n",
    "    train_ratio = 1 - test_ratio\n",
    "    train_end = int(train_ratio * len(y))\n",
    "    \n",
    "    sorted_index = y.index.argsort()\n",
    "    train_index = sorted_index[:train_end]\n",
    "    test_index = sorted_index[train_end:]\n",
    "    \n",
    "    try:\n",
    "        return X[train_index], X[test_index], y.iloc[train_index], y.iloc[test_index]\n",
    "    except KeyError:\n",
    "        # if X is a pandas data structure\n",
    "        return X.iloc[train_index], X.iloc[test_index], y.iloc[train_index], y.iloc[test_index]"
   ]
  },
  {
   "cell_type": "code",
   "execution_count": null,
   "metadata": {
    "colab": {
     "autoexec": {
      "startup": false,
      "wait_interval": 0
     }
    },
    "colab_type": "code",
    "id": "6wAFRHMt7Vki"
   },
   "outputs": [],
   "source": [
    "class power_uniform():\n",
    "    def __init__(self, low=0.0, high=1.0, base=10.0):\n",
    "        self.low = low\n",
    "        self.high = high\n",
    "        self.base = base\n",
    "\n",
    "    def rvs(self, random_state):\n",
    "        return self.base ** np.random.uniform(self.low, self.high)"
   ]
  },
  {
   "cell_type": "code",
   "execution_count": 90,
   "metadata": {
    "colab": {
     "autoexec": {
      "startup": false,
      "wait_interval": 0
     },
     "base_uri": "https://localhost:8080/",
     "height": 443
    },
    "colab_type": "code",
    "executionInfo": {
     "elapsed": 8076,
     "status": "ok",
     "timestamp": 1530936707263,
     "user": {
      "displayName": "Vijay Bhati",
      "photoUrl": "https://lh3.googleusercontent.com/a/default-user=s128",
      "userId": "106065926741616959388"
     },
     "user_tz": -330
    },
    "id": "knXBeHtO6xXb",
    "outputId": "fa122231-796a-4247-b6b3-4d523947cb80"
   },
   "outputs": [
    {
     "name": "stdout",
     "output_type": "stream",
     "text": [
      "Performing grid search...\n",
      "\n",
      "Parameters:\n",
      "{'log__C': <__main__.power_uniform object at 0x7fc3f9d35358>}\n",
      "\n",
      "Fitting 10 folds for each of 10 candidates, totalling 100 fits\n"
     ]
    },
    {
     "name": "stderr",
     "output_type": "stream",
     "text": [
      "[Parallel(n_jobs=-1)]: Done 100 out of 100 | elapsed:    6.5s finished\n"
     ]
    },
    {
     "name": "stdout",
     "output_type": "stream",
     "text": [
      "\n",
      "\n",
      "Best CV score: 0.929893\n",
      "Best parameters set:\n",
      "\tlog__C: 589.6200891891958\n",
      "\n",
      "Test score with best_estimator_: 0.923815\n",
      "\n",
      "\n",
      "                 Classification Report Test Data\n",
      "             precision    recall  f1-score   support\n",
      "\n",
      "       FAKE       0.93      0.92      0.92       946\n",
      "       REAL       0.92      0.93      0.92       931\n",
      "\n",
      "avg / total       0.92      0.92      0.92      1877\n",
      "\n"
     ]
    }
   ],
   "source": [
    "# optimal C for l2 regularization\n",
    "param_grid = {\n",
    "    'log__C': power_uniform(-4, 4)\n",
    "}\n",
    "\n",
    "clf = Pipeline([\n",
    "    ('norm', Normalizer()),\n",
    "    ('log', LogisticRegression(penalty='l2'))\n",
    "])\n",
    "\n",
    "best_log = search_param(clf, param_grid, w2v_features, df1['label'], random_search=True)"
   ]
  },
  {
   "cell_type": "code",
   "execution_count": 92,
   "metadata": {
    "colab": {
     "autoexec": {
      "startup": false,
      "wait_interval": 0
     },
     "base_uri": "https://localhost:8080/",
     "height": 443
    },
    "colab_type": "code",
    "executionInfo": {
     "elapsed": 51295,
     "status": "ok",
     "timestamp": 1530936925178,
     "user": {
      "displayName": "Vijay Bhati",
      "photoUrl": "https://lh3.googleusercontent.com/a/default-user=s128",
      "userId": "106065926741616959388"
     },
     "user_tz": -330
    },
    "id": "A-kaOBLF7UJh",
    "outputId": "df2bbd2e-73c8-486e-a868-f041803c17e5"
   },
   "outputs": [
    {
     "name": "stdout",
     "output_type": "stream",
     "text": [
      "Performing grid search...\n",
      "\n",
      "Parameters:\n",
      "{'log__C': array([1.e-04, 1.e-03, 1.e-02, 1.e-01, 1.e+00, 1.e+01, 1.e+02, 1.e+03])}\n",
      "\n",
      "Fitting 10 folds for each of 8 candidates, totalling 80 fits\n"
     ]
    },
    {
     "name": "stderr",
     "output_type": "stream",
     "text": [
      "[Parallel(n_jobs=-1)]: Done  80 out of  80 | elapsed:   47.7s finished\n"
     ]
    },
    {
     "name": "stdout",
     "output_type": "stream",
     "text": [
      "\n",
      "\n",
      "Best CV score: 0.929893\n",
      "Best parameters set:\n",
      "\tlog__C: 100.0\n",
      "\n",
      "Test score with best_estimator_: 0.922216\n",
      "\n",
      "\n",
      "                 Classification Report Test Data\n",
      "             precision    recall  f1-score   support\n",
      "\n",
      "       FAKE       0.93      0.91      0.92       946\n",
      "       REAL       0.91      0.93      0.92       931\n",
      "\n",
      "avg / total       0.92      0.92      0.92      1877\n",
      "\n"
     ]
    }
   ],
   "source": [
    "# optimal C for l1 regularization\n",
    "# Using Random search\n",
    "param_grid = {\n",
    "    'log__C': 10.0 ** np.arange(-4, 4)\n",
    "}\n",
    "\n",
    "clf = Pipeline([\n",
    "    ('norm', Normalizer()),\n",
    "    ('log', LogisticRegression(penalty='l1'))\n",
    "])\n",
    "\n",
    "best_log = search_param(clf, param_grid, w2v_features, df1['label'], n_jobs=-1)"
   ]
  },
  {
   "cell_type": "markdown",
   "metadata": {
    "colab_type": "text",
    "id": "xkXLrCTN9vlZ"
   },
   "source": [
    "# Support Vector Machine Classifier"
   ]
  },
  {
   "cell_type": "code",
   "execution_count": 100,
   "metadata": {
    "colab": {
     "autoexec": {
      "startup": false,
      "wait_interval": 0
     },
     "base_uri": "https://localhost:8080/",
     "height": 72
    },
    "colab_type": "code",
    "executionInfo": {
     "elapsed": 1459,
     "status": "ok",
     "timestamp": 1530937257728,
     "user": {
      "displayName": "Vijay Bhati",
      "photoUrl": "https://lh3.googleusercontent.com/a/default-user=s128",
      "userId": "106065926741616959388"
     },
     "user_tz": -330
    },
    "id": "JO7YWnxO7UsX",
    "outputId": "79d7e3fe-dcdf-45fb-c611-95219d5fef28"
   },
   "outputs": [
    {
     "name": "stderr",
     "output_type": "stream",
     "text": [
      "/usr/local/lib/python3.6/dist-packages/sklearn/model_selection/_split.py:2026: FutureWarning: From version 0.21, test_size will always complement train_size unless both are specified.\n",
      "  FutureWarning)\n"
     ]
    }
   ],
   "source": [
    "from sklearn.svm import SVC\n",
    "X_sample, X_sam, y_sample, y_sam = train_test_split(w2v_features, df1['label'], train_size=0.04)"
   ]
  },
  {
   "cell_type": "code",
   "execution_count": null,
   "metadata": {
    "colab": {
     "autoexec": {
      "startup": false,
      "wait_interval": 0
     }
    },
    "colab_type": "code",
    "id": "CpMvrfcj6xT1"
   },
   "outputs": [],
   "source": [
    "# spliting data into train and test\n",
    "X_train, X_test, y_train, y_test = train_test_split_by_time(X_sample, y_sample)"
   ]
  },
  {
   "cell_type": "code",
   "execution_count": 102,
   "metadata": {
    "colab": {
     "autoexec": {
      "startup": false,
      "wait_interval": 0
     },
     "base_uri": "https://localhost:8080/",
     "height": 34
    },
    "colab_type": "code",
    "executionInfo": {
     "elapsed": 2329,
     "status": "ok",
     "timestamp": 1530937267995,
     "user": {
      "displayName": "Vijay Bhati",
      "photoUrl": "https://lh3.googleusercontent.com/a/default-user=s128",
      "userId": "106065926741616959388"
     },
     "user_tz": -330
    },
    "id": "HAozOhpT6xQV",
    "outputId": "528e878d-7f83-4d61-bae2-913897560483"
   },
   "outputs": [
    {
     "name": "stdout",
     "output_type": "stream",
     "text": [
      "Accuracy on test set: 0.5733333333333334\n"
     ]
    }
   ],
   "source": [
    "# Train model with default hyperparameter\n",
    "clf = SVC()\n",
    "clf.fit(X_train, y_train)\n",
    "\n",
    "print('Accuracy on test set:', clf.score(X_test, y_test))"
   ]
  },
  {
   "cell_type": "code",
   "execution_count": 103,
   "metadata": {
    "colab": {
     "autoexec": {
      "startup": false,
      "wait_interval": 0
     },
     "base_uri": "https://localhost:8080/",
     "height": 34
    },
    "colab_type": "code",
    "executionInfo": {
     "elapsed": 1060,
     "status": "ok",
     "timestamp": 1530937269398,
     "user": {
      "displayName": "Vijay Bhati",
      "photoUrl": "https://lh3.googleusercontent.com/a/default-user=s128",
      "userId": "106065926741616959388"
     },
     "user_tz": -330
    },
    "id": "jXvUwXlQ6xNx",
    "outputId": "037584e5-878d-4fc8-be95-0958f305d7c0"
   },
   "outputs": [
    {
     "name": "stdout",
     "output_type": "stream",
     "text": [
      "Accuracy on test set: 0.9066666666666666\n"
     ]
    }
   ],
   "source": [
    "# Column standardization\n",
    "from sklearn.pipeline import Pipeline\n",
    "from sklearn.preprocessing import StandardScaler\n",
    "\n",
    "clf = Pipeline([('Scalar', StandardScaler(with_mean=False)),\n",
    "               ('svc', SVC())])\n",
    "clf.fit(X_train, y_train)\n",
    "print('Accuracy on test set:', clf.score(X_test, y_test))"
   ]
  },
  {
   "cell_type": "code",
   "execution_count": 104,
   "metadata": {
    "colab": {
     "autoexec": {
      "startup": false,
      "wait_interval": 0
     },
     "base_uri": "https://localhost:8080/",
     "height": 461
    },
    "colab_type": "code",
    "executionInfo": {
     "elapsed": 2342,
     "status": "ok",
     "timestamp": 1530937272350,
     "user": {
      "displayName": "Vijay Bhati",
      "photoUrl": "https://lh3.googleusercontent.com/a/default-user=s128",
      "userId": "106065926741616959388"
     },
     "user_tz": -330
    },
    "id": "JBkj-a-s6xK4",
    "outputId": "bfd78b79-3b24-429d-f930-d53a33915b1e"
   },
   "outputs": [
    {
     "name": "stdout",
     "output_type": "stream",
     "text": [
      "Performing grid search...\n",
      "\n",
      "Parameters:\n",
      "{'svc__C': <__main__.power_uniform object at 0x7fc3f29286d8>, 'svc__gamma': <__main__.power_uniform object at 0x7fc3f2928048>}\n",
      "\n",
      "Fitting 10 folds for each of 20 candidates, totalling 200 fits\n",
      "\n",
      "\n",
      "Best CV score: 0.891429\n",
      "Best parameters set:\n",
      "\tsvc__C: 488.20483906356435\n",
      "\tsvc__gamma: 0.0778711669169114\n",
      "\n",
      "Test score with best_estimator_: 0.893333\n",
      "\n",
      "\n",
      "                 Classification Report Test Data\n",
      "             precision    recall  f1-score   support\n",
      "\n",
      "       FAKE       0.88      0.88      0.88        32\n",
      "       REAL       0.91      0.91      0.91        43\n",
      "\n",
      "avg / total       0.89      0.89      0.89        75\n",
      "\n"
     ]
    },
    {
     "name": "stderr",
     "output_type": "stream",
     "text": [
      "[Parallel(n_jobs=-1)]: Done 200 out of 200 | elapsed:    0.9s finished\n"
     ]
    }
   ],
   "source": [
    "# Using Random search\n",
    "param_grid = {\n",
    "    'svc__C': power_uniform(-4, 4),\n",
    "    'svc__gamma': power_uniform(-4, 4)\n",
    "}\n",
    "\n",
    "clf = Pipeline([\n",
    "    ('norm', Normalizer()),\n",
    "    ('svc', SVC())\n",
    "])\n",
    "\n",
    "best_svm = search_param(clf, param_grid, X_sample, y_sample, random_search=True, n_iter=20)"
   ]
  },
  {
   "cell_type": "code",
   "execution_count": 105,
   "metadata": {
    "colab": {
     "autoexec": {
      "startup": false,
      "wait_interval": 0
     },
     "base_uri": "https://localhost:8080/",
     "height": 461
    },
    "colab_type": "code",
    "executionInfo": {
     "elapsed": 4969,
     "status": "ok",
     "timestamp": 1530937277820,
     "user": {
      "displayName": "Vijay Bhati",
      "photoUrl": "https://lh3.googleusercontent.com/a/default-user=s128",
      "userId": "106065926741616959388"
     },
     "user_tz": -330
    },
    "id": "ZQQAG1Ta6xIA",
    "outputId": "eb71668d-caba-434d-8a8a-a247d1d97ecf"
   },
   "outputs": [
    {
     "name": "stdout",
     "output_type": "stream",
     "text": [
      "Performing grid search...\n",
      "\n",
      "Parameters:\n",
      "{'svc__C': array([1.e-04, 1.e-03, 1.e-02, 1.e-01, 1.e+00, 1.e+01, 1.e+02, 1.e+03]), 'svc__gamma': array([1.e-04, 1.e-03, 1.e-02, 1.e-01, 1.e+00, 1.e+01, 1.e+02, 1.e+03])}\n",
      "\n",
      "Fitting 10 folds for each of 64 candidates, totalling 640 fits\n",
      "\n",
      "\n",
      "Best CV score: 0.891429\n",
      "Best parameters set:\n",
      "\tsvc__C: 10.0\n",
      "\tsvc__gamma: 1.0\n",
      "\n",
      "Test score with best_estimator_: 0.853333\n",
      "\n",
      "\n",
      "                 Classification Report Test Data\n",
      "             precision    recall  f1-score   support\n",
      "\n",
      "       FAKE       0.86      0.78      0.82        32\n",
      "       REAL       0.85      0.91      0.88        43\n",
      "\n",
      "avg / total       0.85      0.85      0.85        75\n",
      "\n"
     ]
    },
    {
     "name": "stderr",
     "output_type": "stream",
     "text": [
      "[Parallel(n_jobs=-1)]: Done 640 out of 640 | elapsed:    3.5s finished\n"
     ]
    }
   ],
   "source": [
    "# Using Grid search\n",
    "param_grid = {\n",
    "    'svc__C': 10.0 ** np.arange(-4, 4),\n",
    "    'svc__gamma': 10.0 ** np.arange(-4, 4)\n",
    "}\n",
    "\n",
    "clf = Pipeline([\n",
    "    ('norm', Normalizer()),\n",
    "    ('svc', SVC())\n",
    "])\n",
    "\n",
    "best_svm = search_param(clf, param_grid, X_sample, y_sample)"
   ]
  },
  {
   "cell_type": "code",
   "execution_count": 112,
   "metadata": {
    "colab": {
     "autoexec": {
      "startup": false,
      "wait_interval": 0
     },
     "base_uri": "https://localhost:8080/",
     "height": 342
    },
    "colab_type": "code",
    "executionInfo": {
     "elapsed": 1176,
     "status": "ok",
     "timestamp": 1530939155054,
     "user": {
      "displayName": "Vijay Bhati",
      "photoUrl": "https://lh3.googleusercontent.com/a/default-user=s128",
      "userId": "106065926741616959388"
     },
     "user_tz": -330
    },
    "id": "bxnkgxUcDzX0",
    "outputId": "e710e9fc-ce4b-44a5-a62e-fbc80c99aec6"
   },
   "outputs": [
    {
     "data": {
      "image/png": "[encoded data removed]",
      "text/plain": [
       "<matplotlib.figure.Figure at 0x7fc3fdba8438>"
      ]
     },
     "metadata": {
      "tags": []
     },
     "output_type": "display_data"
    }
   ],
   "source": [
    "model_accuracy = {\n",
    "    'K-NN': 0.8961,\n",
    "    'Naive-Bayes': 0.7464,\n",
    "    'Logistic Regression': 0.9222,\n",
    "    'SVM': 0.8533\n",
    "}\n",
    "\n",
    "pd.Series(model_accuracy).plot(kind='bar')\n",
    "plt.ylabel('Accuracy Score')\n",
    "plt.ylim((0.70, 0.93));"
   ]
  },
  {
   "cell_type": "markdown",
   "metadata": {
    "colab_type": "text",
    "id": "8Q_45Oh1FctE"
   },
   "source": [
    "# Conclusion:-\n",
    "* From the bar graph we can say that Logistic Regression is giving best accuracy of 92%."
   ]
  },
  {
   "cell_type": "code",
   "execution_count": null,
   "metadata": {
    "colab": {
     "autoexec": {
      "startup": false,
      "wait_interval": 0
     }
    },
    "colab_type": "code",
    "id": "XxbS8U4FFZ0E"
   },
   "outputs": [],
   "source": []
  }
 ],
 "metadata": {
  "accelerator": "GPU",
  "colab": {
   "collapsed_sections": [],
   "default_view": {},
   "name": "Fake News.ipynb",
   "provenance": [],
   "version": "0.3.2",
   "views": {}
  },
  "kernelspec": {
   "display_name": "Python 3",
   "language": "python",
   "name": "python3"
  },
  "language_info": {
   "codemirror_mode": {
    "name": "ipython",
    "version": 3
   },
   "file_extension": ".py",
   "mimetype": "text/x-python",
   "name": "python",
   "nbconvert_exporter": "python",
   "pygments_lexer": "ipython3",
   "version": "3.6.4"
  }
 },
 "nbformat": 4,
 "nbformat_minor": 1
}
